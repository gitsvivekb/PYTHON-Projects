{
 "cells": [
  {
   "cell_type": "code",
   "execution_count": 1,
   "id": "ca684c67",
   "metadata": {
    "colab": {
     "base_uri": "https://localhost:8080/",
     "height": 380
    },
    "executionInfo": {
     "elapsed": 1050,
     "status": "error",
     "timestamp": 1669259965635,
     "user": {
      "displayName": "Laughing_Buddha",
      "userId": "09715067922076073161"
     },
     "user_tz": -330
    },
    "id": "ca684c67",
    "outputId": "33b00b65-035a-4722-9517-22cc82b06853"
   },
   "outputs": [
    {
     "data": {
      "text/html": [
       "<div>\n",
       "<style scoped>\n",
       "    .dataframe tbody tr th:only-of-type {\n",
       "        vertical-align: middle;\n",
       "    }\n",
       "\n",
       "    .dataframe tbody tr th {\n",
       "        vertical-align: top;\n",
       "    }\n",
       "\n",
       "    .dataframe thead th {\n",
       "        text-align: right;\n",
       "    }\n",
       "</style>\n",
       "<table border=\"1\" class=\"dataframe\">\n",
       "  <thead>\n",
       "    <tr style=\"text-align: right;\">\n",
       "      <th></th>\n",
       "      <th>customer_id</th>\n",
       "      <th>Gender</th>\n",
       "      <th>age</th>\n",
       "      <th>driving licence present</th>\n",
       "      <th>region code</th>\n",
       "      <th>previously insured</th>\n",
       "      <th>vehicle age</th>\n",
       "      <th>vehicle damage</th>\n",
       "    </tr>\n",
       "  </thead>\n",
       "  <tbody>\n",
       "    <tr>\n",
       "      <th>0</th>\n",
       "      <td>1.0</td>\n",
       "      <td>Male</td>\n",
       "      <td>44.0</td>\n",
       "      <td>1.0</td>\n",
       "      <td>28.0</td>\n",
       "      <td>0.0</td>\n",
       "      <td>&gt; 2 Years</td>\n",
       "      <td>Yes</td>\n",
       "    </tr>\n",
       "    <tr>\n",
       "      <th>1</th>\n",
       "      <td>2.0</td>\n",
       "      <td>Male</td>\n",
       "      <td>76.0</td>\n",
       "      <td>1.0</td>\n",
       "      <td>3.0</td>\n",
       "      <td>0.0</td>\n",
       "      <td>1-2 Year</td>\n",
       "      <td>No</td>\n",
       "    </tr>\n",
       "    <tr>\n",
       "      <th>2</th>\n",
       "      <td>3.0</td>\n",
       "      <td>Male</td>\n",
       "      <td>47.0</td>\n",
       "      <td>1.0</td>\n",
       "      <td>28.0</td>\n",
       "      <td>0.0</td>\n",
       "      <td>&gt; 2 Years</td>\n",
       "      <td>Yes</td>\n",
       "    </tr>\n",
       "    <tr>\n",
       "      <th>3</th>\n",
       "      <td>4.0</td>\n",
       "      <td>Male</td>\n",
       "      <td>21.0</td>\n",
       "      <td>1.0</td>\n",
       "      <td>11.0</td>\n",
       "      <td>1.0</td>\n",
       "      <td>&lt; 1 Year</td>\n",
       "      <td>No</td>\n",
       "    </tr>\n",
       "    <tr>\n",
       "      <th>4</th>\n",
       "      <td>5.0</td>\n",
       "      <td>Female</td>\n",
       "      <td>29.0</td>\n",
       "      <td>1.0</td>\n",
       "      <td>41.0</td>\n",
       "      <td>1.0</td>\n",
       "      <td>&lt; 1 Year</td>\n",
       "      <td>No</td>\n",
       "    </tr>\n",
       "  </tbody>\n",
       "</table>\n",
       "</div>"
      ],
      "text/plain": [
       "   customer_id  Gender   age  driving licence present  region code  \\\n",
       "0          1.0    Male  44.0                      1.0         28.0   \n",
       "1          2.0    Male  76.0                      1.0          3.0   \n",
       "2          3.0    Male  47.0                      1.0         28.0   \n",
       "3          4.0    Male  21.0                      1.0         11.0   \n",
       "4          5.0  Female  29.0                      1.0         41.0   \n",
       "\n",
       "   previously insured vehicle age vehicle damage  \n",
       "0                 0.0   > 2 Years            Yes  \n",
       "1                 0.0    1-2 Year             No  \n",
       "2                 0.0   > 2 Years            Yes  \n",
       "3                 1.0    < 1 Year             No  \n",
       "4                 1.0    < 1 Year             No  "
      ]
     },
     "execution_count": 1,
     "metadata": {},
     "output_type": "execute_result"
    }
   ],
   "source": [
    "import pandas as pd\n",
    "import numpy as np\n",
    "import matplotlib.pyplot as plt\n",
    " \n",
    "customerdetails = pd.read_csv(\"customer_details.csv\")\n",
    "\n",
    "customerpolicydetails = pd.read_csv(\"customer_policy_details.csv\")\n",
    "\n",
    "headers = ['customer_id','Gender','age','driving licence present','region code','previously insured','vehicle age','vehicle damage']\n",
    "\n",
    "customerdetails.columns=headers\n",
    "\n",
    "customerdetails.head()"
   ]
  },
  {
   "cell_type": "code",
   "execution_count": 2,
   "id": "1b8d8f47",
   "metadata": {
    "colab": {
     "base_uri": "https://localhost:8080/",
     "height": 217
    },
    "executionInfo": {
     "elapsed": 85,
     "status": "error",
     "timestamp": 1669259966586,
     "user": {
      "displayName": "Laughing_Buddha",
      "userId": "09715067922076073161"
     },
     "user_tz": -330
    },
    "id": "1b8d8f47",
    "outputId": "fea9ad11-0bca-411d-ebb0-0c25ffc89f37"
   },
   "outputs": [
    {
     "data": {
      "text/html": [
       "<div>\n",
       "<style scoped>\n",
       "    .dataframe tbody tr th:only-of-type {\n",
       "        vertical-align: middle;\n",
       "    }\n",
       "\n",
       "    .dataframe tbody tr th {\n",
       "        vertical-align: top;\n",
       "    }\n",
       "\n",
       "    .dataframe thead th {\n",
       "        text-align: right;\n",
       "    }\n",
       "</style>\n",
       "<table border=\"1\" class=\"dataframe\">\n",
       "  <thead>\n",
       "    <tr style=\"text-align: right;\">\n",
       "      <th></th>\n",
       "      <th>customer_id</th>\n",
       "      <th>annual premium (in Rs)</th>\n",
       "      <th>sales channel code</th>\n",
       "      <th>vintage</th>\n",
       "      <th>responce</th>\n",
       "    </tr>\n",
       "  </thead>\n",
       "  <tbody>\n",
       "    <tr>\n",
       "      <th>0</th>\n",
       "      <td>1.0</td>\n",
       "      <td>40454.0</td>\n",
       "      <td>26.0</td>\n",
       "      <td>217.0</td>\n",
       "      <td>1.0</td>\n",
       "    </tr>\n",
       "    <tr>\n",
       "      <th>1</th>\n",
       "      <td>2.0</td>\n",
       "      <td>33536.0</td>\n",
       "      <td>26.0</td>\n",
       "      <td>183.0</td>\n",
       "      <td>0.0</td>\n",
       "    </tr>\n",
       "    <tr>\n",
       "      <th>2</th>\n",
       "      <td>3.0</td>\n",
       "      <td>38294.0</td>\n",
       "      <td>26.0</td>\n",
       "      <td>27.0</td>\n",
       "      <td>1.0</td>\n",
       "    </tr>\n",
       "    <tr>\n",
       "      <th>3</th>\n",
       "      <td>4.0</td>\n",
       "      <td>28619.0</td>\n",
       "      <td>152.0</td>\n",
       "      <td>203.0</td>\n",
       "      <td>0.0</td>\n",
       "    </tr>\n",
       "    <tr>\n",
       "      <th>4</th>\n",
       "      <td>5.0</td>\n",
       "      <td>27496.0</td>\n",
       "      <td>152.0</td>\n",
       "      <td>39.0</td>\n",
       "      <td>0.0</td>\n",
       "    </tr>\n",
       "  </tbody>\n",
       "</table>\n",
       "</div>"
      ],
      "text/plain": [
       "   customer_id  annual premium (in Rs)  sales channel code  vintage  responce\n",
       "0          1.0                 40454.0                26.0    217.0       1.0\n",
       "1          2.0                 33536.0                26.0    183.0       0.0\n",
       "2          3.0                 38294.0                26.0     27.0       1.0\n",
       "3          4.0                 28619.0               152.0    203.0       0.0\n",
       "4          5.0                 27496.0               152.0     39.0       0.0"
      ]
     },
     "execution_count": 2,
     "metadata": {},
     "output_type": "execute_result"
    }
   ],
   "source": [
    "# Adding columns to customer policy details table\n",
    "customerpolicydetails.columns=['customer_id','annual premium (in Rs)','sales channel code','vintage','responce']\n",
    "\n",
    "customerpolicydetails.head()"
   ]
  },
  {
   "cell_type": "markdown",
   "id": "5436bbb6",
   "metadata": {
    "id": "5436bbb6"
   },
   "source": [
    "# 2.Checking and Cleaning Data Quality:\n",
    "# NULL Values"
   ]
  },
  {
   "cell_type": "markdown",
   "id": "684ad9ed",
   "metadata": {
    "id": "684ad9ed"
   },
   "source": [
    "# Generate a summary of count of all the null values column wise"
   ]
  },
  {
   "cell_type": "code",
   "execution_count": 3,
   "id": "548edc4e",
   "metadata": {
    "executionInfo": {
     "elapsed": 79,
     "status": "aborted",
     "timestamp": 1669259966588,
     "user": {
      "displayName": "Laughing_Buddha",
      "userId": "09715067922076073161"
     },
     "user_tz": -330
    },
    "id": "548edc4e"
   },
   "outputs": [
    {
     "name": "stdout",
     "output_type": "stream",
     "text": [
      "customer_id\n",
      "customer_id\n",
      "False    380723\n",
      "True        386\n",
      "Name: count, dtype: int64\n",
      "\n",
      "Gender\n",
      "Gender\n",
      "False    380741\n",
      "True        368\n",
      "Name: count, dtype: int64\n",
      "\n",
      "age\n",
      "age\n",
      "False    380741\n",
      "True        368\n",
      "Name: count, dtype: int64\n",
      "\n",
      "driving licence present\n",
      "driving licence present\n",
      "False    380716\n",
      "True        393\n",
      "Name: count, dtype: int64\n",
      "\n",
      "region code\n",
      "region code\n",
      "False    380717\n",
      "True        392\n",
      "Name: count, dtype: int64\n",
      "\n",
      "previously insured\n",
      "previously insured\n",
      "False    380728\n",
      "True        381\n",
      "Name: count, dtype: int64\n",
      "\n",
      "vehicle age\n",
      "vehicle age\n",
      "False    380728\n",
      "True        381\n",
      "Name: count, dtype: int64\n",
      "\n",
      "vehicle damage\n",
      "vehicle damage\n",
      "False    380702\n",
      "True        407\n",
      "Name: count, dtype: int64\n",
      "\n"
     ]
    }
   ],
   "source": [
    "# the column wise count of null values on customer details table\n",
    "\n",
    "customerdetails_null = customerdetails.isnull()\n",
    "for i in customerdetails_null.columns.values.tolist():\n",
    "    print(i)\n",
    "    print(customerdetails_null[i].value_counts())\n",
    "    print(\"\")"
   ]
  },
  {
   "cell_type": "code",
   "execution_count": 4,
   "id": "37ca3597",
   "metadata": {
    "executionInfo": {
     "elapsed": 81,
     "status": "aborted",
     "timestamp": 1669259966591,
     "user": {
      "displayName": "Laughing_Buddha",
      "userId": "09715067922076073161"
     },
     "user_tz": -330
    },
    "id": "37ca3597"
   },
   "outputs": [
    {
     "name": "stdout",
     "output_type": "stream",
     "text": [
      "customer_id\n",
      "customer_id\n",
      "False    380722\n",
      "True        387\n",
      "Name: count, dtype: int64\n",
      "\n",
      "annual premium (in Rs)\n",
      "annual premium (in Rs)\n",
      "False    380763\n",
      "True        346\n",
      "Name: count, dtype: int64\n",
      "\n",
      "sales channel code\n",
      "sales channel code\n",
      "False    380709\n",
      "True        400\n",
      "Name: count, dtype: int64\n",
      "\n",
      "vintage\n",
      "vintage\n",
      "False    380721\n",
      "True        388\n",
      "Name: count, dtype: int64\n",
      "\n",
      "responce\n",
      "responce\n",
      "False    380748\n",
      "True        361\n",
      "Name: count, dtype: int64\n",
      "\n"
     ]
    }
   ],
   "source": [
    "# the column wise count of null values on customer policy details table\n",
    "\n",
    "customerpolicydetails_null = customerpolicydetails.isnull()\n",
    "\n",
    "for i in customerpolicydetails_null.columns.values.tolist():\n",
    "    print(i)\n",
    "    print(customerpolicydetails_null[i].value_counts())\n",
    "    print(\"\")\n"
   ]
  },
  {
   "cell_type": "markdown",
   "id": "ceb0343c",
   "metadata": {
    "id": "ceb0343c"
   },
   "source": [
    "# Drop Null values for customer_id because central tendencies for id’s is not feasible."
   ]
  },
  {
   "cell_type": "code",
   "execution_count": 5,
   "id": "336b9e12",
   "metadata": {
    "executionInfo": {
     "elapsed": 83,
     "status": "aborted",
     "timestamp": 1669259966593,
     "user": {
      "displayName": "Laughing_Buddha",
      "userId": "09715067922076073161"
     },
     "user_tz": -330
    },
    "id": "336b9e12"
   },
   "outputs": [],
   "source": [
    "# Dropping the rows that contains null values of customr_id on customer details table\n",
    "customerdetails.dropna(subset=['customer_id'], axis=0,inplace=True)\n",
    "\n",
    "# resetting index because some rows deleted\n",
    "customerdetails.reset_index(drop = True, inplace = True)"
   ]
  },
  {
   "cell_type": "code",
   "execution_count": 6,
   "id": "5060f234",
   "metadata": {
    "executionInfo": {
     "elapsed": 83,
     "status": "aborted",
     "timestamp": 1669259966595,
     "user": {
      "displayName": "Laughing_Buddha",
      "userId": "09715067922076073161"
     },
     "user_tz": -330
    },
    "id": "5060f234"
   },
   "outputs": [],
   "source": [
    "# Dropping the rows that contains null values of customr_id on customer policy details table\n",
    "customerpolicydetails.dropna(subset=['customer_id'], axis=0,inplace=True)\n",
    "\n",
    "# resetting index because some rows deleted\n",
    "customerpolicydetails.reset_index(drop = True, inplace = True)"
   ]
  },
  {
   "cell_type": "markdown",
   "id": "274c291b",
   "metadata": {
    "id": "274c291b"
   },
   "source": [
    "# Replacing all null values for numeric columns by mean"
   ]
  },
  {
   "cell_type": "code",
   "execution_count": 7,
   "id": "9dd9c296",
   "metadata": {
    "executionInfo": {
     "elapsed": 85,
     "status": "aborted",
     "timestamp": 1669259966597,
     "user": {
      "displayName": "Laughing_Buddha",
      "userId": "09715067922076073161"
     },
     "user_tz": -330
    },
    "id": "9dd9c296"
   },
   "outputs": [
    {
     "data": {
      "text/html": [
       "<div>\n",
       "<style scoped>\n",
       "    .dataframe tbody tr th:only-of-type {\n",
       "        vertical-align: middle;\n",
       "    }\n",
       "\n",
       "    .dataframe tbody tr th {\n",
       "        vertical-align: top;\n",
       "    }\n",
       "\n",
       "    .dataframe thead th {\n",
       "        text-align: right;\n",
       "    }\n",
       "</style>\n",
       "<table border=\"1\" class=\"dataframe\">\n",
       "  <thead>\n",
       "    <tr style=\"text-align: right;\">\n",
       "      <th></th>\n",
       "      <th>customer_id</th>\n",
       "      <th>Gender</th>\n",
       "      <th>age</th>\n",
       "      <th>driving licence present</th>\n",
       "      <th>region code</th>\n",
       "      <th>previously insured</th>\n",
       "      <th>vehicle age</th>\n",
       "      <th>vehicle damage</th>\n",
       "    </tr>\n",
       "  </thead>\n",
       "  <tbody>\n",
       "    <tr>\n",
       "      <th>0</th>\n",
       "      <td>1.0</td>\n",
       "      <td>Male</td>\n",
       "      <td>44.0</td>\n",
       "      <td>1.0</td>\n",
       "      <td>28.0</td>\n",
       "      <td>0.0</td>\n",
       "      <td>&gt; 2 Years</td>\n",
       "      <td>Yes</td>\n",
       "    </tr>\n",
       "    <tr>\n",
       "      <th>1</th>\n",
       "      <td>2.0</td>\n",
       "      <td>Male</td>\n",
       "      <td>76.0</td>\n",
       "      <td>1.0</td>\n",
       "      <td>3.0</td>\n",
       "      <td>0.0</td>\n",
       "      <td>1-2 Year</td>\n",
       "      <td>No</td>\n",
       "    </tr>\n",
       "    <tr>\n",
       "      <th>2</th>\n",
       "      <td>3.0</td>\n",
       "      <td>Male</td>\n",
       "      <td>47.0</td>\n",
       "      <td>1.0</td>\n",
       "      <td>28.0</td>\n",
       "      <td>0.0</td>\n",
       "      <td>&gt; 2 Years</td>\n",
       "      <td>Yes</td>\n",
       "    </tr>\n",
       "    <tr>\n",
       "      <th>3</th>\n",
       "      <td>4.0</td>\n",
       "      <td>Male</td>\n",
       "      <td>21.0</td>\n",
       "      <td>1.0</td>\n",
       "      <td>11.0</td>\n",
       "      <td>1.0</td>\n",
       "      <td>&lt; 1 Year</td>\n",
       "      <td>No</td>\n",
       "    </tr>\n",
       "    <tr>\n",
       "      <th>4</th>\n",
       "      <td>5.0</td>\n",
       "      <td>Female</td>\n",
       "      <td>29.0</td>\n",
       "      <td>1.0</td>\n",
       "      <td>41.0</td>\n",
       "      <td>1.0</td>\n",
       "      <td>&lt; 1 Year</td>\n",
       "      <td>No</td>\n",
       "    </tr>\n",
       "  </tbody>\n",
       "</table>\n",
       "</div>"
      ],
      "text/plain": [
       "   customer_id  Gender   age  driving licence present  region code  \\\n",
       "0          1.0    Male  44.0                      1.0         28.0   \n",
       "1          2.0    Male  76.0                      1.0          3.0   \n",
       "2          3.0    Male  47.0                      1.0         28.0   \n",
       "3          4.0    Male  21.0                      1.0         11.0   \n",
       "4          5.0  Female  29.0                      1.0         41.0   \n",
       "\n",
       "   previously insured vehicle age vehicle damage  \n",
       "0                 0.0   > 2 Years            Yes  \n",
       "1                 0.0    1-2 Year             No  \n",
       "2                 0.0   > 2 Years            Yes  \n",
       "3                 1.0    < 1 Year             No  \n",
       "4                 1.0    < 1 Year             No  "
      ]
     },
     "execution_count": 7,
     "metadata": {},
     "output_type": "execute_result"
    }
   ],
   "source": [
    "customerdetails.head()"
   ]
  },
  {
   "cell_type": "code",
   "execution_count": 8,
   "id": "8470f2a2",
   "metadata": {
    "executionInfo": {
     "elapsed": 85,
     "status": "aborted",
     "timestamp": 1669259966599,
     "user": {
      "displayName": "Laughing_Buddha",
      "userId": "09715067922076073161"
     },
     "user_tz": -330
    },
    "id": "8470f2a2"
   },
   "outputs": [
    {
     "data": {
      "text/html": [
       "<div>\n",
       "<style scoped>\n",
       "    .dataframe tbody tr th:only-of-type {\n",
       "        vertical-align: middle;\n",
       "    }\n",
       "\n",
       "    .dataframe tbody tr th {\n",
       "        vertical-align: top;\n",
       "    }\n",
       "\n",
       "    .dataframe thead th {\n",
       "        text-align: right;\n",
       "    }\n",
       "</style>\n",
       "<table border=\"1\" class=\"dataframe\">\n",
       "  <thead>\n",
       "    <tr style=\"text-align: right;\">\n",
       "      <th></th>\n",
       "      <th>customer_id</th>\n",
       "      <th>annual premium (in Rs)</th>\n",
       "      <th>sales channel code</th>\n",
       "      <th>vintage</th>\n",
       "      <th>responce</th>\n",
       "    </tr>\n",
       "  </thead>\n",
       "  <tbody>\n",
       "    <tr>\n",
       "      <th>0</th>\n",
       "      <td>1.0</td>\n",
       "      <td>40454.0</td>\n",
       "      <td>26.0</td>\n",
       "      <td>217.0</td>\n",
       "      <td>1.0</td>\n",
       "    </tr>\n",
       "    <tr>\n",
       "      <th>1</th>\n",
       "      <td>2.0</td>\n",
       "      <td>33536.0</td>\n",
       "      <td>26.0</td>\n",
       "      <td>183.0</td>\n",
       "      <td>0.0</td>\n",
       "    </tr>\n",
       "    <tr>\n",
       "      <th>2</th>\n",
       "      <td>3.0</td>\n",
       "      <td>38294.0</td>\n",
       "      <td>26.0</td>\n",
       "      <td>27.0</td>\n",
       "      <td>1.0</td>\n",
       "    </tr>\n",
       "    <tr>\n",
       "      <th>3</th>\n",
       "      <td>4.0</td>\n",
       "      <td>28619.0</td>\n",
       "      <td>152.0</td>\n",
       "      <td>203.0</td>\n",
       "      <td>0.0</td>\n",
       "    </tr>\n",
       "    <tr>\n",
       "      <th>4</th>\n",
       "      <td>5.0</td>\n",
       "      <td>27496.0</td>\n",
       "      <td>152.0</td>\n",
       "      <td>39.0</td>\n",
       "      <td>0.0</td>\n",
       "    </tr>\n",
       "  </tbody>\n",
       "</table>\n",
       "</div>"
      ],
      "text/plain": [
       "   customer_id  annual premium (in Rs)  sales channel code  vintage  responce\n",
       "0          1.0                 40454.0                26.0    217.0       1.0\n",
       "1          2.0                 33536.0                26.0    183.0       0.0\n",
       "2          3.0                 38294.0                26.0     27.0       1.0\n",
       "3          4.0                 28619.0               152.0    203.0       0.0\n",
       "4          5.0                 27496.0               152.0     39.0       0.0"
      ]
     },
     "execution_count": 8,
     "metadata": {},
     "output_type": "execute_result"
    }
   ],
   "source": [
    "# Replacing the NaN values of age by its mean value\n",
    "\n",
    "customerdetails['age'].fillna(customerdetails['age'].mean(),inplace = True)\n",
    "\n",
    "\n",
    "# Replacing the NaN values of region code by its mean value\n",
    "\n",
    "customerdetails['region code'].fillna(customerdetails['region code'].mean(),inplace = True)\n",
    "\n",
    "customerpolicydetails.head()"
   ]
  },
  {
   "cell_type": "code",
   "execution_count": 9,
   "id": "c0050c37",
   "metadata": {
    "executionInfo": {
     "elapsed": 86,
     "status": "aborted",
     "timestamp": 1669259966600,
     "user": {
      "displayName": "Laughing_Buddha",
      "userId": "09715067922076073161"
     },
     "user_tz": -330
    },
    "id": "c0050c37"
   },
   "outputs": [],
   "source": [
    "# Replacing the NaN values of annual premium by its mean value\n",
    "customerpolicydetails['annual premium (in Rs)'].fillna(customerpolicydetails['annual premium (in Rs)'].mean(),inplace = True)\n",
    "\n",
    "# Replacing the NaN values of sales channel code by its mean value\n",
    "customerpolicydetails['sales channel code'].fillna(customerpolicydetails['sales channel code'].mean(),inplace = True)\n",
    "\n",
    "# Replacing the NaN values of vintage by its mean value\n",
    "customerpolicydetails['vintage'].fillna(customerpolicydetails['vintage'].mean(),inplace = True)"
   ]
  },
  {
   "cell_type": "markdown",
   "id": "57e7ee55",
   "metadata": {
    "id": "57e7ee55"
   },
   "source": [
    "# Repalcing categorical null values by its mode"
   ]
  },
  {
   "cell_type": "code",
   "execution_count": 10,
   "id": "014ed262",
   "metadata": {
    "executionInfo": {
     "elapsed": 87,
     "status": "aborted",
     "timestamp": 1669259966602,
     "user": {
      "displayName": "Laughing_Buddha",
      "userId": "09715067922076073161"
     },
     "user_tz": -330
    },
    "id": "014ed262"
   },
   "outputs": [],
   "source": [
    "# it replaces the null values with the value which exist maximum no of times i.e. mode\n",
    "customerdetails['driving licence present'].fillna (customerdetails['driving licence present'].mode()[0], inplace=True)\n",
    "\n",
    "# it replaces the null values with the value which exist maximum no of times i.e. mode\n",
    "customerdetails['previously insured'].fillna (customerdetails['previously insured'].mode()[0], inplace=True)\n",
    " \n",
    "\n",
    "# it replaces the null values with the value which exist maximum no of times i.e. mode\n",
    "\n",
    "customerpolicydetails['responce'].fillna(customerpolicydetails['responce'].mode()[0], inplace=True)"
   ]
  },
  {
   "cell_type": "code",
   "execution_count": 11,
   "id": "72ae8992",
   "metadata": {
    "colab": {
     "base_uri": "https://localhost:8080/",
     "height": 165
    },
    "executionInfo": {
     "elapsed": 89,
     "status": "error",
     "timestamp": 1669259966605,
     "user": {
      "displayName": "Laughing_Buddha",
      "userId": "09715067922076073161"
     },
     "user_tz": -330
    },
    "id": "72ae8992",
    "outputId": "076b0eb6-131a-4523-d17e-b8373341e500"
   },
   "outputs": [
    {
     "data": {
      "text/html": [
       "<div>\n",
       "<style scoped>\n",
       "    .dataframe tbody tr th:only-of-type {\n",
       "        vertical-align: middle;\n",
       "    }\n",
       "\n",
       "    .dataframe tbody tr th {\n",
       "        vertical-align: top;\n",
       "    }\n",
       "\n",
       "    .dataframe thead th {\n",
       "        text-align: right;\n",
       "    }\n",
       "</style>\n",
       "<table border=\"1\" class=\"dataframe\">\n",
       "  <thead>\n",
       "    <tr style=\"text-align: right;\">\n",
       "      <th></th>\n",
       "      <th>customer_id</th>\n",
       "      <th>Gender</th>\n",
       "      <th>age</th>\n",
       "      <th>driving licence present</th>\n",
       "      <th>region code</th>\n",
       "      <th>previously insured</th>\n",
       "      <th>vehicle age</th>\n",
       "      <th>vehicle damage</th>\n",
       "    </tr>\n",
       "  </thead>\n",
       "  <tbody>\n",
       "    <tr>\n",
       "      <th>0</th>\n",
       "      <td>1.0</td>\n",
       "      <td>Male</td>\n",
       "      <td>44.0</td>\n",
       "      <td>1.0</td>\n",
       "      <td>28.0</td>\n",
       "      <td>0.0</td>\n",
       "      <td>&gt; 2 Years</td>\n",
       "      <td>Yes</td>\n",
       "    </tr>\n",
       "    <tr>\n",
       "      <th>1</th>\n",
       "      <td>2.0</td>\n",
       "      <td>Male</td>\n",
       "      <td>76.0</td>\n",
       "      <td>1.0</td>\n",
       "      <td>3.0</td>\n",
       "      <td>0.0</td>\n",
       "      <td>1-2 Year</td>\n",
       "      <td>No</td>\n",
       "    </tr>\n",
       "    <tr>\n",
       "      <th>2</th>\n",
       "      <td>3.0</td>\n",
       "      <td>Male</td>\n",
       "      <td>47.0</td>\n",
       "      <td>1.0</td>\n",
       "      <td>28.0</td>\n",
       "      <td>0.0</td>\n",
       "      <td>&gt; 2 Years</td>\n",
       "      <td>Yes</td>\n",
       "    </tr>\n",
       "    <tr>\n",
       "      <th>3</th>\n",
       "      <td>4.0</td>\n",
       "      <td>Male</td>\n",
       "      <td>21.0</td>\n",
       "      <td>1.0</td>\n",
       "      <td>11.0</td>\n",
       "      <td>1.0</td>\n",
       "      <td>&lt; 1 Year</td>\n",
       "      <td>No</td>\n",
       "    </tr>\n",
       "    <tr>\n",
       "      <th>4</th>\n",
       "      <td>5.0</td>\n",
       "      <td>Female</td>\n",
       "      <td>29.0</td>\n",
       "      <td>1.0</td>\n",
       "      <td>41.0</td>\n",
       "      <td>1.0</td>\n",
       "      <td>&lt; 1 Year</td>\n",
       "      <td>No</td>\n",
       "    </tr>\n",
       "    <tr>\n",
       "      <th>...</th>\n",
       "      <td>...</td>\n",
       "      <td>...</td>\n",
       "      <td>...</td>\n",
       "      <td>...</td>\n",
       "      <td>...</td>\n",
       "      <td>...</td>\n",
       "      <td>...</td>\n",
       "      <td>...</td>\n",
       "    </tr>\n",
       "    <tr>\n",
       "      <th>380718</th>\n",
       "      <td>381105.0</td>\n",
       "      <td>Male</td>\n",
       "      <td>74.0</td>\n",
       "      <td>1.0</td>\n",
       "      <td>26.0</td>\n",
       "      <td>1.0</td>\n",
       "      <td>1-2 Year</td>\n",
       "      <td>No</td>\n",
       "    </tr>\n",
       "    <tr>\n",
       "      <th>380719</th>\n",
       "      <td>381106.0</td>\n",
       "      <td>Male</td>\n",
       "      <td>30.0</td>\n",
       "      <td>1.0</td>\n",
       "      <td>37.0</td>\n",
       "      <td>1.0</td>\n",
       "      <td>&lt; 1 Year</td>\n",
       "      <td>No</td>\n",
       "    </tr>\n",
       "    <tr>\n",
       "      <th>380720</th>\n",
       "      <td>381107.0</td>\n",
       "      <td>Male</td>\n",
       "      <td>21.0</td>\n",
       "      <td>1.0</td>\n",
       "      <td>30.0</td>\n",
       "      <td>1.0</td>\n",
       "      <td>&lt; 1 Year</td>\n",
       "      <td>No</td>\n",
       "    </tr>\n",
       "    <tr>\n",
       "      <th>380721</th>\n",
       "      <td>381108.0</td>\n",
       "      <td>Female</td>\n",
       "      <td>68.0</td>\n",
       "      <td>1.0</td>\n",
       "      <td>14.0</td>\n",
       "      <td>0.0</td>\n",
       "      <td>&gt; 2 Years</td>\n",
       "      <td>Yes</td>\n",
       "    </tr>\n",
       "    <tr>\n",
       "      <th>380722</th>\n",
       "      <td>381109.0</td>\n",
       "      <td>Male</td>\n",
       "      <td>46.0</td>\n",
       "      <td>1.0</td>\n",
       "      <td>29.0</td>\n",
       "      <td>0.0</td>\n",
       "      <td>1-2 Year</td>\n",
       "      <td>No</td>\n",
       "    </tr>\n",
       "  </tbody>\n",
       "</table>\n",
       "<p>380723 rows × 8 columns</p>\n",
       "</div>"
      ],
      "text/plain": [
       "        customer_id  Gender   age  driving licence present  region code  \\\n",
       "0               1.0    Male  44.0                      1.0         28.0   \n",
       "1               2.0    Male  76.0                      1.0          3.0   \n",
       "2               3.0    Male  47.0                      1.0         28.0   \n",
       "3               4.0    Male  21.0                      1.0         11.0   \n",
       "4               5.0  Female  29.0                      1.0         41.0   \n",
       "...             ...     ...   ...                      ...          ...   \n",
       "380718     381105.0    Male  74.0                      1.0         26.0   \n",
       "380719     381106.0    Male  30.0                      1.0         37.0   \n",
       "380720     381107.0    Male  21.0                      1.0         30.0   \n",
       "380721     381108.0  Female  68.0                      1.0         14.0   \n",
       "380722     381109.0    Male  46.0                      1.0         29.0   \n",
       "\n",
       "        previously insured vehicle age vehicle damage  \n",
       "0                      0.0   > 2 Years            Yes  \n",
       "1                      0.0    1-2 Year             No  \n",
       "2                      0.0   > 2 Years            Yes  \n",
       "3                      1.0    < 1 Year             No  \n",
       "4                      1.0    < 1 Year             No  \n",
       "...                    ...         ...            ...  \n",
       "380718                 1.0    1-2 Year             No  \n",
       "380719                 1.0    < 1 Year             No  \n",
       "380720                 1.0    < 1 Year             No  \n",
       "380721                 0.0   > 2 Years            Yes  \n",
       "380722                 0.0    1-2 Year             No  \n",
       "\n",
       "[380723 rows x 8 columns]"
      ]
     },
     "execution_count": 11,
     "metadata": {},
     "output_type": "execute_result"
    }
   ],
   "source": [
    "customerdetails"
   ]
  },
  {
   "cell_type": "code",
   "execution_count": 12,
   "id": "cf988e8a",
   "metadata": {
    "executionInfo": {
     "elapsed": 87,
     "status": "aborted",
     "timestamp": 1669259966607,
     "user": {
      "displayName": "Laughing_Buddha",
      "userId": "09715067922076073161"
     },
     "user_tz": -330
    },
    "id": "cf988e8a"
   },
   "outputs": [
    {
     "data": {
      "text/html": [
       "<div>\n",
       "<style scoped>\n",
       "    .dataframe tbody tr th:only-of-type {\n",
       "        vertical-align: middle;\n",
       "    }\n",
       "\n",
       "    .dataframe tbody tr th {\n",
       "        vertical-align: top;\n",
       "    }\n",
       "\n",
       "    .dataframe thead th {\n",
       "        text-align: right;\n",
       "    }\n",
       "</style>\n",
       "<table border=\"1\" class=\"dataframe\">\n",
       "  <thead>\n",
       "    <tr style=\"text-align: right;\">\n",
       "      <th></th>\n",
       "      <th>customer_id</th>\n",
       "      <th>annual premium (in Rs)</th>\n",
       "      <th>sales channel code</th>\n",
       "      <th>vintage</th>\n",
       "      <th>responce</th>\n",
       "    </tr>\n",
       "  </thead>\n",
       "  <tbody>\n",
       "    <tr>\n",
       "      <th>0</th>\n",
       "      <td>1.0</td>\n",
       "      <td>40454.0</td>\n",
       "      <td>26.0</td>\n",
       "      <td>217.0</td>\n",
       "      <td>1.0</td>\n",
       "    </tr>\n",
       "    <tr>\n",
       "      <th>1</th>\n",
       "      <td>2.0</td>\n",
       "      <td>33536.0</td>\n",
       "      <td>26.0</td>\n",
       "      <td>183.0</td>\n",
       "      <td>0.0</td>\n",
       "    </tr>\n",
       "    <tr>\n",
       "      <th>2</th>\n",
       "      <td>3.0</td>\n",
       "      <td>38294.0</td>\n",
       "      <td>26.0</td>\n",
       "      <td>27.0</td>\n",
       "      <td>1.0</td>\n",
       "    </tr>\n",
       "    <tr>\n",
       "      <th>3</th>\n",
       "      <td>4.0</td>\n",
       "      <td>28619.0</td>\n",
       "      <td>152.0</td>\n",
       "      <td>203.0</td>\n",
       "      <td>0.0</td>\n",
       "    </tr>\n",
       "    <tr>\n",
       "      <th>4</th>\n",
       "      <td>5.0</td>\n",
       "      <td>27496.0</td>\n",
       "      <td>152.0</td>\n",
       "      <td>39.0</td>\n",
       "      <td>0.0</td>\n",
       "    </tr>\n",
       "    <tr>\n",
       "      <th>...</th>\n",
       "      <td>...</td>\n",
       "      <td>...</td>\n",
       "      <td>...</td>\n",
       "      <td>...</td>\n",
       "      <td>...</td>\n",
       "    </tr>\n",
       "    <tr>\n",
       "      <th>380717</th>\n",
       "      <td>381105.0</td>\n",
       "      <td>30170.0</td>\n",
       "      <td>26.0</td>\n",
       "      <td>88.0</td>\n",
       "      <td>0.0</td>\n",
       "    </tr>\n",
       "    <tr>\n",
       "      <th>380718</th>\n",
       "      <td>381106.0</td>\n",
       "      <td>40016.0</td>\n",
       "      <td>152.0</td>\n",
       "      <td>131.0</td>\n",
       "      <td>0.0</td>\n",
       "    </tr>\n",
       "    <tr>\n",
       "      <th>380719</th>\n",
       "      <td>381107.0</td>\n",
       "      <td>35118.0</td>\n",
       "      <td>160.0</td>\n",
       "      <td>161.0</td>\n",
       "      <td>0.0</td>\n",
       "    </tr>\n",
       "    <tr>\n",
       "      <th>380720</th>\n",
       "      <td>381108.0</td>\n",
       "      <td>44617.0</td>\n",
       "      <td>124.0</td>\n",
       "      <td>74.0</td>\n",
       "      <td>0.0</td>\n",
       "    </tr>\n",
       "    <tr>\n",
       "      <th>380721</th>\n",
       "      <td>381109.0</td>\n",
       "      <td>41777.0</td>\n",
       "      <td>26.0</td>\n",
       "      <td>237.0</td>\n",
       "      <td>0.0</td>\n",
       "    </tr>\n",
       "  </tbody>\n",
       "</table>\n",
       "<p>380722 rows × 5 columns</p>\n",
       "</div>"
      ],
      "text/plain": [
       "        customer_id  annual premium (in Rs)  sales channel code  vintage  \\\n",
       "0               1.0                 40454.0                26.0    217.0   \n",
       "1               2.0                 33536.0                26.0    183.0   \n",
       "2               3.0                 38294.0                26.0     27.0   \n",
       "3               4.0                 28619.0               152.0    203.0   \n",
       "4               5.0                 27496.0               152.0     39.0   \n",
       "...             ...                     ...                 ...      ...   \n",
       "380717     381105.0                 30170.0                26.0     88.0   \n",
       "380718     381106.0                 40016.0               152.0    131.0   \n",
       "380719     381107.0                 35118.0               160.0    161.0   \n",
       "380720     381108.0                 44617.0               124.0     74.0   \n",
       "380721     381109.0                 41777.0                26.0    237.0   \n",
       "\n",
       "        responce  \n",
       "0            1.0  \n",
       "1            0.0  \n",
       "2            1.0  \n",
       "3            0.0  \n",
       "4            0.0  \n",
       "...          ...  \n",
       "380717       0.0  \n",
       "380718       0.0  \n",
       "380719       0.0  \n",
       "380720       0.0  \n",
       "380721       0.0  \n",
       "\n",
       "[380722 rows x 5 columns]"
      ]
     },
     "execution_count": 12,
     "metadata": {},
     "output_type": "execute_result"
    }
   ],
   "source": [
    "customerpolicydetails"
   ]
  },
  {
   "cell_type": "code",
   "execution_count": 13,
   "id": "2f524f2b",
   "metadata": {
    "executionInfo": {
     "elapsed": 87,
     "status": "aborted",
     "timestamp": 1669259966608,
     "user": {
      "displayName": "Laughing_Buddha",
      "userId": "09715067922076073161"
     },
     "user_tz": -330
    },
    "id": "2f524f2b"
   },
   "outputs": [
    {
     "name": "stdout",
     "output_type": "stream",
     "text": [
      "<class 'pandas.core.frame.DataFrame'>\n",
      "RangeIndex: 380722 entries, 0 to 380721\n",
      "Data columns (total 5 columns):\n",
      " #   Column                  Non-Null Count   Dtype  \n",
      "---  ------                  --------------   -----  \n",
      " 0   customer_id             380722 non-null  float64\n",
      " 1   annual premium (in Rs)  380722 non-null  float64\n",
      " 2   sales channel code      380722 non-null  float64\n",
      " 3   vintage                 380722 non-null  float64\n",
      " 4   responce                380722 non-null  float64\n",
      "dtypes: float64(5)\n",
      "memory usage: 14.5 MB\n"
     ]
    }
   ],
   "source": [
    "customerpolicydetails.info()"
   ]
  },
  {
   "cell_type": "code",
   "execution_count": 14,
   "id": "2aeb84f5",
   "metadata": {
    "executionInfo": {
     "elapsed": 88,
     "status": "aborted",
     "timestamp": 1669259966610,
     "user": {
      "displayName": "Laughing_Buddha",
      "userId": "09715067922076073161"
     },
     "user_tz": -330
    },
    "id": "2aeb84f5"
   },
   "outputs": [
    {
     "name": "stdout",
     "output_type": "stream",
     "text": [
      "<class 'pandas.core.frame.DataFrame'>\n",
      "RangeIndex: 380723 entries, 0 to 380722\n",
      "Data columns (total 8 columns):\n",
      " #   Column                   Non-Null Count   Dtype  \n",
      "---  ------                   --------------   -----  \n",
      " 0   customer_id              380723 non-null  float64\n",
      " 1   Gender                   380355 non-null  object \n",
      " 2   age                      380723 non-null  float64\n",
      " 3   driving licence present  380723 non-null  float64\n",
      " 4   region code              380723 non-null  float64\n",
      " 5   previously insured       380723 non-null  float64\n",
      " 6   vehicle age              380342 non-null  object \n",
      " 7   vehicle damage           380317 non-null  object \n",
      "dtypes: float64(5), object(3)\n",
      "memory usage: 23.2+ MB\n"
     ]
    }
   ],
   "source": [
    "customerdetails.info()"
   ]
  },
  {
   "cell_type": "markdown",
   "id": "d0668b69",
   "metadata": {
    "id": "d0668b69"
   },
   "source": [
    "# OUTLIERS"
   ]
  },
  {
   "cell_type": "markdown",
   "id": "3241a65f",
   "metadata": {
    "id": "3241a65f"
   },
   "source": [
    "# Generate summary of Count of all the Outliers column wise"
   ]
  },
  {
   "cell_type": "code",
   "execution_count": 15,
   "id": "ac93f7d3",
   "metadata": {
    "executionInfo": {
     "elapsed": 88,
     "status": "aborted",
     "timestamp": 1669259966611,
     "user": {
      "displayName": "Laughing_Buddha",
      "userId": "09715067922076073161"
     },
     "user_tz": -330
    },
    "id": "ac93f7d3"
   },
   "outputs": [
    {
     "data": {
      "text/html": [
       "<div>\n",
       "<style scoped>\n",
       "    .dataframe tbody tr th:only-of-type {\n",
       "        vertical-align: middle;\n",
       "    }\n",
       "\n",
       "    .dataframe tbody tr th {\n",
       "        vertical-align: top;\n",
       "    }\n",
       "\n",
       "    .dataframe thead th {\n",
       "        text-align: right;\n",
       "    }\n",
       "</style>\n",
       "<table border=\"1\" class=\"dataframe\">\n",
       "  <thead>\n",
       "    <tr style=\"text-align: right;\">\n",
       "      <th></th>\n",
       "      <th>customer_id</th>\n",
       "      <th>age</th>\n",
       "      <th>driving licence present</th>\n",
       "      <th>region code</th>\n",
       "      <th>previously insured</th>\n",
       "    </tr>\n",
       "  </thead>\n",
       "  <tbody>\n",
       "    <tr>\n",
       "      <th>count</th>\n",
       "      <td>380723.000000</td>\n",
       "      <td>380723.000000</td>\n",
       "      <td>380723.000000</td>\n",
       "      <td>380723.000000</td>\n",
       "      <td>380723.000000</td>\n",
       "    </tr>\n",
       "    <tr>\n",
       "      <th>mean</th>\n",
       "      <td>190548.776244</td>\n",
       "      <td>38.822788</td>\n",
       "      <td>0.997870</td>\n",
       "      <td>26.389436</td>\n",
       "      <td>0.457800</td>\n",
       "    </tr>\n",
       "    <tr>\n",
       "      <th>std</th>\n",
       "      <td>110016.805160</td>\n",
       "      <td>15.504826</td>\n",
       "      <td>0.046105</td>\n",
       "      <td>13.223671</td>\n",
       "      <td>0.498217</td>\n",
       "    </tr>\n",
       "    <tr>\n",
       "      <th>min</th>\n",
       "      <td>1.000000</td>\n",
       "      <td>20.000000</td>\n",
       "      <td>0.000000</td>\n",
       "      <td>0.000000</td>\n",
       "      <td>0.000000</td>\n",
       "    </tr>\n",
       "    <tr>\n",
       "      <th>25%</th>\n",
       "      <td>95269.500000</td>\n",
       "      <td>25.000000</td>\n",
       "      <td>1.000000</td>\n",
       "      <td>15.000000</td>\n",
       "      <td>0.000000</td>\n",
       "    </tr>\n",
       "    <tr>\n",
       "      <th>50%</th>\n",
       "      <td>190543.000000</td>\n",
       "      <td>36.000000</td>\n",
       "      <td>1.000000</td>\n",
       "      <td>28.000000</td>\n",
       "      <td>0.000000</td>\n",
       "    </tr>\n",
       "    <tr>\n",
       "      <th>75%</th>\n",
       "      <td>285822.500000</td>\n",
       "      <td>49.000000</td>\n",
       "      <td>1.000000</td>\n",
       "      <td>35.000000</td>\n",
       "      <td>1.000000</td>\n",
       "    </tr>\n",
       "    <tr>\n",
       "      <th>max</th>\n",
       "      <td>381109.000000</td>\n",
       "      <td>85.000000</td>\n",
       "      <td>1.000000</td>\n",
       "      <td>52.000000</td>\n",
       "      <td>1.000000</td>\n",
       "    </tr>\n",
       "  </tbody>\n",
       "</table>\n",
       "</div>"
      ],
      "text/plain": [
       "         customer_id            age  driving licence present    region code  \\\n",
       "count  380723.000000  380723.000000            380723.000000  380723.000000   \n",
       "mean   190548.776244      38.822788                 0.997870      26.389436   \n",
       "std    110016.805160      15.504826                 0.046105      13.223671   \n",
       "min         1.000000      20.000000                 0.000000       0.000000   \n",
       "25%     95269.500000      25.000000                 1.000000      15.000000   \n",
       "50%    190543.000000      36.000000                 1.000000      28.000000   \n",
       "75%    285822.500000      49.000000                 1.000000      35.000000   \n",
       "max    381109.000000      85.000000                 1.000000      52.000000   \n",
       "\n",
       "       previously insured  \n",
       "count       380723.000000  \n",
       "mean             0.457800  \n",
       "std              0.498217  \n",
       "min              0.000000  \n",
       "25%              0.000000  \n",
       "50%              0.000000  \n",
       "75%              1.000000  \n",
       "max              1.000000  "
      ]
     },
     "execution_count": 15,
     "metadata": {},
     "output_type": "execute_result"
    }
   ],
   "source": [
    "customerdetails.describe()"
   ]
  },
  {
   "cell_type": "code",
   "execution_count": 16,
   "id": "d8811ea8",
   "metadata": {
    "executionInfo": {
     "elapsed": 91,
     "status": "aborted",
     "timestamp": 1669259966615,
     "user": {
      "displayName": "Laughing_Buddha",
      "userId": "09715067922076073161"
     },
     "user_tz": -330
    },
    "id": "d8811ea8"
   },
   "outputs": [
    {
     "data": {
      "text/html": [
       "<div>\n",
       "<style scoped>\n",
       "    .dataframe tbody tr th:only-of-type {\n",
       "        vertical-align: middle;\n",
       "    }\n",
       "\n",
       "    .dataframe tbody tr th {\n",
       "        vertical-align: top;\n",
       "    }\n",
       "\n",
       "    .dataframe thead th {\n",
       "        text-align: right;\n",
       "    }\n",
       "</style>\n",
       "<table border=\"1\" class=\"dataframe\">\n",
       "  <thead>\n",
       "    <tr style=\"text-align: right;\">\n",
       "      <th></th>\n",
       "      <th>customer_id</th>\n",
       "      <th>annual premium (in Rs)</th>\n",
       "      <th>sales channel code</th>\n",
       "      <th>vintage</th>\n",
       "      <th>responce</th>\n",
       "    </tr>\n",
       "  </thead>\n",
       "  <tbody>\n",
       "    <tr>\n",
       "      <th>count</th>\n",
       "      <td>380722.000000</td>\n",
       "      <td>380722.000000</td>\n",
       "      <td>380722.000000</td>\n",
       "      <td>380722.000000</td>\n",
       "      <td>380722.000000</td>\n",
       "    </tr>\n",
       "    <tr>\n",
       "      <th>mean</th>\n",
       "      <td>190547.491663</td>\n",
       "      <td>30563.999774</td>\n",
       "      <td>112.036687</td>\n",
       "      <td>154.347192</td>\n",
       "      <td>0.122410</td>\n",
       "    </tr>\n",
       "    <tr>\n",
       "      <th>std</th>\n",
       "      <td>110013.824148</td>\n",
       "      <td>17190.147550</td>\n",
       "      <td>54.177046</td>\n",
       "      <td>83.628096</td>\n",
       "      <td>0.327759</td>\n",
       "    </tr>\n",
       "    <tr>\n",
       "      <th>min</th>\n",
       "      <td>1.000000</td>\n",
       "      <td>2630.000000</td>\n",
       "      <td>1.000000</td>\n",
       "      <td>10.000000</td>\n",
       "      <td>0.000000</td>\n",
       "    </tr>\n",
       "    <tr>\n",
       "      <th>25%</th>\n",
       "      <td>95276.250000</td>\n",
       "      <td>24416.000000</td>\n",
       "      <td>29.000000</td>\n",
       "      <td>82.000000</td>\n",
       "      <td>0.000000</td>\n",
       "    </tr>\n",
       "    <tr>\n",
       "      <th>50%</th>\n",
       "      <td>190536.500000</td>\n",
       "      <td>31656.000000</td>\n",
       "      <td>131.000000</td>\n",
       "      <td>154.000000</td>\n",
       "      <td>0.000000</td>\n",
       "    </tr>\n",
       "    <tr>\n",
       "      <th>75%</th>\n",
       "      <td>285818.750000</td>\n",
       "      <td>39391.750000</td>\n",
       "      <td>152.000000</td>\n",
       "      <td>227.000000</td>\n",
       "      <td>0.000000</td>\n",
       "    </tr>\n",
       "    <tr>\n",
       "      <th>max</th>\n",
       "      <td>381109.000000</td>\n",
       "      <td>540165.000000</td>\n",
       "      <td>163.000000</td>\n",
       "      <td>299.000000</td>\n",
       "      <td>1.000000</td>\n",
       "    </tr>\n",
       "  </tbody>\n",
       "</table>\n",
       "</div>"
      ],
      "text/plain": [
       "         customer_id  annual premium (in Rs)  sales channel code  \\\n",
       "count  380722.000000           380722.000000       380722.000000   \n",
       "mean   190547.491663            30563.999774          112.036687   \n",
       "std    110013.824148            17190.147550           54.177046   \n",
       "min         1.000000             2630.000000            1.000000   \n",
       "25%     95276.250000            24416.000000           29.000000   \n",
       "50%    190536.500000            31656.000000          131.000000   \n",
       "75%    285818.750000            39391.750000          152.000000   \n",
       "max    381109.000000           540165.000000          163.000000   \n",
       "\n",
       "             vintage       responce  \n",
       "count  380722.000000  380722.000000  \n",
       "mean      154.347192       0.122410  \n",
       "std        83.628096       0.327759  \n",
       "min        10.000000       0.000000  \n",
       "25%        82.000000       0.000000  \n",
       "50%       154.000000       0.000000  \n",
       "75%       227.000000       0.000000  \n",
       "max       299.000000       1.000000  "
      ]
     },
     "execution_count": 16,
     "metadata": {},
     "output_type": "execute_result"
    }
   ],
   "source": [
    "customerpolicydetails.describe()"
   ]
  },
  {
   "cell_type": "code",
   "execution_count": 17,
   "id": "d5300ff6",
   "metadata": {
    "executionInfo": {
     "elapsed": 91,
     "status": "aborted",
     "timestamp": 1669259966617,
     "user": {
      "displayName": "Laughing_Buddha",
      "userId": "09715067922076073161"
     },
     "user_tz": -330
    },
    "id": "d5300ff6"
   },
   "outputs": [
    {
     "data": {
      "text/plain": [
       "customer_id                   0\n",
       "annual premium (in Rs)    10332\n",
       "sales channel code            0\n",
       "vintage                       0\n",
       "responce                  46604\n",
       "dtype: int64"
      ]
     },
     "execution_count": 17,
     "metadata": {},
     "output_type": "execute_result"
    }
   ],
   "source": [
    "q1=customerpolicydetails.quantile(0.25)\n",
    "q3=customerpolicydetails.quantile(0.75)\n",
    "iqr=q3-q1\n",
    "l=q1-(1.5*iqr)\n",
    "u=q3+(1.5*iqr)\n",
    "((customerpolicydetails<l)|(customerpolicydetails>u)).sum()"
   ]
  },
  {
   "cell_type": "markdown",
   "id": "17badb7d",
   "metadata": {
    "id": "17badb7d"
   },
   "source": [
    "# Replacing the outliers with mean values"
   ]
  },
  {
   "cell_type": "code",
   "execution_count": 18,
   "id": "ae7d05f7",
   "metadata": {
    "executionInfo": {
     "elapsed": 92,
     "status": "aborted",
     "timestamp": 1669259966618,
     "user": {
      "displayName": "Laughing_Buddha",
      "userId": "09715067922076073161"
     },
     "user_tz": -330
    },
    "id": "ae7d05f7"
   },
   "outputs": [],
   "source": [
    "def replace_outlier(df):\n",
    "    q1 = df.quantile(0.25)\n",
    "    q3 = df.quantile(0.75)\n",
    "    iqr = q3-q1\n",
    "    upper = df[~(df>(q3+1.5*iqr))].max()\n",
    "    lower = df[~(df<(q1-1.5*iqr))].min()\n",
    "    df = np.where(df>upper,df.mean(),np.where(df<lower,df.mean(),df))\n",
    "    return df\n",
    " \n",
    "\n",
    "customerpolicydetails['annual premium (in Rs)'] = replace_outlier(customerpolicydetails['annual premium (in Rs)'])"
   ]
  },
  {
   "cell_type": "code",
   "execution_count": 19,
   "id": "a21f38fa",
   "metadata": {
    "executionInfo": {
     "elapsed": 92,
     "status": "aborted",
     "timestamp": 1669259966619,
     "user": {
      "displayName": "Laughing_Buddha",
      "userId": "09715067922076073161"
     },
     "user_tz": -330
    },
    "id": "a21f38fa"
   },
   "outputs": [
    {
     "data": {
      "text/html": [
       "<div>\n",
       "<style scoped>\n",
       "    .dataframe tbody tr th:only-of-type {\n",
       "        vertical-align: middle;\n",
       "    }\n",
       "\n",
       "    .dataframe tbody tr th {\n",
       "        vertical-align: top;\n",
       "    }\n",
       "\n",
       "    .dataframe thead th {\n",
       "        text-align: right;\n",
       "    }\n",
       "</style>\n",
       "<table border=\"1\" class=\"dataframe\">\n",
       "  <thead>\n",
       "    <tr style=\"text-align: right;\">\n",
       "      <th></th>\n",
       "      <th>customer_id</th>\n",
       "      <th>annual premium (in Rs)</th>\n",
       "      <th>sales channel code</th>\n",
       "      <th>vintage</th>\n",
       "      <th>responce</th>\n",
       "    </tr>\n",
       "  </thead>\n",
       "  <tbody>\n",
       "    <tr>\n",
       "      <th>0</th>\n",
       "      <td>1.0</td>\n",
       "      <td>40454.0</td>\n",
       "      <td>26.0</td>\n",
       "      <td>217.0</td>\n",
       "      <td>1.0</td>\n",
       "    </tr>\n",
       "    <tr>\n",
       "      <th>1</th>\n",
       "      <td>2.0</td>\n",
       "      <td>33536.0</td>\n",
       "      <td>26.0</td>\n",
       "      <td>183.0</td>\n",
       "      <td>0.0</td>\n",
       "    </tr>\n",
       "    <tr>\n",
       "      <th>2</th>\n",
       "      <td>3.0</td>\n",
       "      <td>38294.0</td>\n",
       "      <td>26.0</td>\n",
       "      <td>27.0</td>\n",
       "      <td>1.0</td>\n",
       "    </tr>\n",
       "    <tr>\n",
       "      <th>3</th>\n",
       "      <td>4.0</td>\n",
       "      <td>28619.0</td>\n",
       "      <td>152.0</td>\n",
       "      <td>203.0</td>\n",
       "      <td>0.0</td>\n",
       "    </tr>\n",
       "    <tr>\n",
       "      <th>4</th>\n",
       "      <td>5.0</td>\n",
       "      <td>27496.0</td>\n",
       "      <td>152.0</td>\n",
       "      <td>39.0</td>\n",
       "      <td>0.0</td>\n",
       "    </tr>\n",
       "    <tr>\n",
       "      <th>...</th>\n",
       "      <td>...</td>\n",
       "      <td>...</td>\n",
       "      <td>...</td>\n",
       "      <td>...</td>\n",
       "      <td>...</td>\n",
       "    </tr>\n",
       "    <tr>\n",
       "      <th>380717</th>\n",
       "      <td>381105.0</td>\n",
       "      <td>30170.0</td>\n",
       "      <td>26.0</td>\n",
       "      <td>88.0</td>\n",
       "      <td>0.0</td>\n",
       "    </tr>\n",
       "    <tr>\n",
       "      <th>380718</th>\n",
       "      <td>381106.0</td>\n",
       "      <td>40016.0</td>\n",
       "      <td>152.0</td>\n",
       "      <td>131.0</td>\n",
       "      <td>0.0</td>\n",
       "    </tr>\n",
       "    <tr>\n",
       "      <th>380719</th>\n",
       "      <td>381107.0</td>\n",
       "      <td>35118.0</td>\n",
       "      <td>160.0</td>\n",
       "      <td>161.0</td>\n",
       "      <td>0.0</td>\n",
       "    </tr>\n",
       "    <tr>\n",
       "      <th>380720</th>\n",
       "      <td>381108.0</td>\n",
       "      <td>44617.0</td>\n",
       "      <td>124.0</td>\n",
       "      <td>74.0</td>\n",
       "      <td>0.0</td>\n",
       "    </tr>\n",
       "    <tr>\n",
       "      <th>380721</th>\n",
       "      <td>381109.0</td>\n",
       "      <td>41777.0</td>\n",
       "      <td>26.0</td>\n",
       "      <td>237.0</td>\n",
       "      <td>0.0</td>\n",
       "    </tr>\n",
       "  </tbody>\n",
       "</table>\n",
       "<p>380722 rows × 5 columns</p>\n",
       "</div>"
      ],
      "text/plain": [
       "        customer_id  annual premium (in Rs)  sales channel code  vintage  \\\n",
       "0               1.0                 40454.0                26.0    217.0   \n",
       "1               2.0                 33536.0                26.0    183.0   \n",
       "2               3.0                 38294.0                26.0     27.0   \n",
       "3               4.0                 28619.0               152.0    203.0   \n",
       "4               5.0                 27496.0               152.0     39.0   \n",
       "...             ...                     ...                 ...      ...   \n",
       "380717     381105.0                 30170.0                26.0     88.0   \n",
       "380718     381106.0                 40016.0               152.0    131.0   \n",
       "380719     381107.0                 35118.0               160.0    161.0   \n",
       "380720     381108.0                 44617.0               124.0     74.0   \n",
       "380721     381109.0                 41777.0                26.0    237.0   \n",
       "\n",
       "        responce  \n",
       "0            1.0  \n",
       "1            0.0  \n",
       "2            1.0  \n",
       "3            0.0  \n",
       "4            0.0  \n",
       "...          ...  \n",
       "380717       0.0  \n",
       "380718       0.0  \n",
       "380719       0.0  \n",
       "380720       0.0  \n",
       "380721       0.0  \n",
       "\n",
       "[380722 rows x 5 columns]"
      ]
     },
     "execution_count": 19,
     "metadata": {},
     "output_type": "execute_result"
    }
   ],
   "source": [
    "customerpolicydetails"
   ]
  },
  {
   "cell_type": "markdown",
   "id": "35c2ff41",
   "metadata": {
    "id": "35c2ff41"
   },
   "source": [
    "# Remove white spaces"
   ]
  },
  {
   "cell_type": "code",
   "execution_count": 20,
   "id": "5c05edce",
   "metadata": {
    "executionInfo": {
     "elapsed": 93,
     "status": "aborted",
     "timestamp": 1669259966620,
     "user": {
      "displayName": "Laughing_Buddha",
      "userId": "09715067922076073161"
     },
     "user_tz": -330
    },
    "id": "5c05edce"
   },
   "outputs": [
    {
     "data": {
      "text/html": [
       "<div>\n",
       "<style scoped>\n",
       "    .dataframe tbody tr th:only-of-type {\n",
       "        vertical-align: middle;\n",
       "    }\n",
       "\n",
       "    .dataframe tbody tr th {\n",
       "        vertical-align: top;\n",
       "    }\n",
       "\n",
       "    .dataframe thead th {\n",
       "        text-align: right;\n",
       "    }\n",
       "</style>\n",
       "<table border=\"1\" class=\"dataframe\">\n",
       "  <thead>\n",
       "    <tr style=\"text-align: right;\">\n",
       "      <th></th>\n",
       "      <th>customer_id</th>\n",
       "      <th>Gender</th>\n",
       "      <th>age</th>\n",
       "      <th>driving licence present</th>\n",
       "      <th>region code</th>\n",
       "      <th>previously insured</th>\n",
       "      <th>vehicle age</th>\n",
       "      <th>vehicle damage</th>\n",
       "    </tr>\n",
       "  </thead>\n",
       "  <tbody>\n",
       "    <tr>\n",
       "      <th>0</th>\n",
       "      <td>1.0</td>\n",
       "      <td>Male</td>\n",
       "      <td>44.0</td>\n",
       "      <td>1.0</td>\n",
       "      <td>28.0</td>\n",
       "      <td>0.0</td>\n",
       "      <td>&gt; 2 Years</td>\n",
       "      <td>Yes</td>\n",
       "    </tr>\n",
       "    <tr>\n",
       "      <th>1</th>\n",
       "      <td>2.0</td>\n",
       "      <td>Male</td>\n",
       "      <td>76.0</td>\n",
       "      <td>1.0</td>\n",
       "      <td>3.0</td>\n",
       "      <td>0.0</td>\n",
       "      <td>1-2 Year</td>\n",
       "      <td>No</td>\n",
       "    </tr>\n",
       "    <tr>\n",
       "      <th>2</th>\n",
       "      <td>3.0</td>\n",
       "      <td>Male</td>\n",
       "      <td>47.0</td>\n",
       "      <td>1.0</td>\n",
       "      <td>28.0</td>\n",
       "      <td>0.0</td>\n",
       "      <td>&gt; 2 Years</td>\n",
       "      <td>Yes</td>\n",
       "    </tr>\n",
       "    <tr>\n",
       "      <th>3</th>\n",
       "      <td>4.0</td>\n",
       "      <td>Male</td>\n",
       "      <td>21.0</td>\n",
       "      <td>1.0</td>\n",
       "      <td>11.0</td>\n",
       "      <td>1.0</td>\n",
       "      <td>&lt; 1 Year</td>\n",
       "      <td>No</td>\n",
       "    </tr>\n",
       "    <tr>\n",
       "      <th>4</th>\n",
       "      <td>5.0</td>\n",
       "      <td>Female</td>\n",
       "      <td>29.0</td>\n",
       "      <td>1.0</td>\n",
       "      <td>41.0</td>\n",
       "      <td>1.0</td>\n",
       "      <td>&lt; 1 Year</td>\n",
       "      <td>No</td>\n",
       "    </tr>\n",
       "    <tr>\n",
       "      <th>...</th>\n",
       "      <td>...</td>\n",
       "      <td>...</td>\n",
       "      <td>...</td>\n",
       "      <td>...</td>\n",
       "      <td>...</td>\n",
       "      <td>...</td>\n",
       "      <td>...</td>\n",
       "      <td>...</td>\n",
       "    </tr>\n",
       "    <tr>\n",
       "      <th>380718</th>\n",
       "      <td>381105.0</td>\n",
       "      <td>Male</td>\n",
       "      <td>74.0</td>\n",
       "      <td>1.0</td>\n",
       "      <td>26.0</td>\n",
       "      <td>1.0</td>\n",
       "      <td>1-2 Year</td>\n",
       "      <td>No</td>\n",
       "    </tr>\n",
       "    <tr>\n",
       "      <th>380719</th>\n",
       "      <td>381106.0</td>\n",
       "      <td>Male</td>\n",
       "      <td>30.0</td>\n",
       "      <td>1.0</td>\n",
       "      <td>37.0</td>\n",
       "      <td>1.0</td>\n",
       "      <td>&lt; 1 Year</td>\n",
       "      <td>No</td>\n",
       "    </tr>\n",
       "    <tr>\n",
       "      <th>380720</th>\n",
       "      <td>381107.0</td>\n",
       "      <td>Male</td>\n",
       "      <td>21.0</td>\n",
       "      <td>1.0</td>\n",
       "      <td>30.0</td>\n",
       "      <td>1.0</td>\n",
       "      <td>&lt; 1 Year</td>\n",
       "      <td>No</td>\n",
       "    </tr>\n",
       "    <tr>\n",
       "      <th>380721</th>\n",
       "      <td>381108.0</td>\n",
       "      <td>Female</td>\n",
       "      <td>68.0</td>\n",
       "      <td>1.0</td>\n",
       "      <td>14.0</td>\n",
       "      <td>0.0</td>\n",
       "      <td>&gt; 2 Years</td>\n",
       "      <td>Yes</td>\n",
       "    </tr>\n",
       "    <tr>\n",
       "      <th>380722</th>\n",
       "      <td>381109.0</td>\n",
       "      <td>Male</td>\n",
       "      <td>46.0</td>\n",
       "      <td>1.0</td>\n",
       "      <td>29.0</td>\n",
       "      <td>0.0</td>\n",
       "      <td>1-2 Year</td>\n",
       "      <td>No</td>\n",
       "    </tr>\n",
       "  </tbody>\n",
       "</table>\n",
       "<p>380723 rows × 8 columns</p>\n",
       "</div>"
      ],
      "text/plain": [
       "        customer_id  Gender   age  driving licence present  region code  \\\n",
       "0               1.0    Male  44.0                      1.0         28.0   \n",
       "1               2.0    Male  76.0                      1.0          3.0   \n",
       "2               3.0    Male  47.0                      1.0         28.0   \n",
       "3               4.0    Male  21.0                      1.0         11.0   \n",
       "4               5.0  Female  29.0                      1.0         41.0   \n",
       "...             ...     ...   ...                      ...          ...   \n",
       "380718     381105.0    Male  74.0                      1.0         26.0   \n",
       "380719     381106.0    Male  30.0                      1.0         37.0   \n",
       "380720     381107.0    Male  21.0                      1.0         30.0   \n",
       "380721     381108.0  Female  68.0                      1.0         14.0   \n",
       "380722     381109.0    Male  46.0                      1.0         29.0   \n",
       "\n",
       "        previously insured vehicle age vehicle damage  \n",
       "0                      0.0   > 2 Years            Yes  \n",
       "1                      0.0    1-2 Year             No  \n",
       "2                      0.0   > 2 Years            Yes  \n",
       "3                      1.0    < 1 Year             No  \n",
       "4                      1.0    < 1 Year             No  \n",
       "...                    ...         ...            ...  \n",
       "380718                 1.0    1-2 Year             No  \n",
       "380719                 1.0    < 1 Year             No  \n",
       "380720                 1.0    < 1 Year             No  \n",
       "380721                 0.0   > 2 Years            Yes  \n",
       "380722                 0.0    1-2 Year             No  \n",
       "\n",
       "[380723 rows x 8 columns]"
      ]
     },
     "execution_count": 20,
     "metadata": {},
     "output_type": "execute_result"
    }
   ],
   "source": [
    "customerdetails.apply(lambda x: x.str.strip() if x.dtype=='object' else x)"
   ]
  },
  {
   "cell_type": "markdown",
   "id": "255a0dd8",
   "metadata": {
    "id": "255a0dd8"
   },
   "source": [
    "# Case Correction"
   ]
  },
  {
   "cell_type": "code",
   "execution_count": 21,
   "id": "97a29459",
   "metadata": {
    "executionInfo": {
     "elapsed": 94,
     "status": "aborted",
     "timestamp": 1669259966622,
     "user": {
      "displayName": "Laughing_Buddha",
      "userId": "09715067922076073161"
     },
     "user_tz": -330
    },
    "id": "97a29459"
   },
   "outputs": [
    {
     "data": {
      "text/html": [
       "<div>\n",
       "<style scoped>\n",
       "    .dataframe tbody tr th:only-of-type {\n",
       "        vertical-align: middle;\n",
       "    }\n",
       "\n",
       "    .dataframe tbody tr th {\n",
       "        vertical-align: top;\n",
       "    }\n",
       "\n",
       "    .dataframe thead th {\n",
       "        text-align: right;\n",
       "    }\n",
       "</style>\n",
       "<table border=\"1\" class=\"dataframe\">\n",
       "  <thead>\n",
       "    <tr style=\"text-align: right;\">\n",
       "      <th></th>\n",
       "      <th>customer_id</th>\n",
       "      <th>Gender</th>\n",
       "      <th>age</th>\n",
       "      <th>driving licence present</th>\n",
       "      <th>region code</th>\n",
       "      <th>previously insured</th>\n",
       "      <th>vehicle age</th>\n",
       "      <th>vehicle damage</th>\n",
       "    </tr>\n",
       "  </thead>\n",
       "  <tbody>\n",
       "    <tr>\n",
       "      <th>0</th>\n",
       "      <td>1.0</td>\n",
       "      <td>MALE</td>\n",
       "      <td>44.0</td>\n",
       "      <td>1.0</td>\n",
       "      <td>28.0</td>\n",
       "      <td>0.0</td>\n",
       "      <td>&gt; 2 YEARS</td>\n",
       "      <td>YES</td>\n",
       "    </tr>\n",
       "    <tr>\n",
       "      <th>1</th>\n",
       "      <td>2.0</td>\n",
       "      <td>MALE</td>\n",
       "      <td>76.0</td>\n",
       "      <td>1.0</td>\n",
       "      <td>3.0</td>\n",
       "      <td>0.0</td>\n",
       "      <td>1-2 YEAR</td>\n",
       "      <td>NO</td>\n",
       "    </tr>\n",
       "    <tr>\n",
       "      <th>2</th>\n",
       "      <td>3.0</td>\n",
       "      <td>MALE</td>\n",
       "      <td>47.0</td>\n",
       "      <td>1.0</td>\n",
       "      <td>28.0</td>\n",
       "      <td>0.0</td>\n",
       "      <td>&gt; 2 YEARS</td>\n",
       "      <td>YES</td>\n",
       "    </tr>\n",
       "    <tr>\n",
       "      <th>3</th>\n",
       "      <td>4.0</td>\n",
       "      <td>MALE</td>\n",
       "      <td>21.0</td>\n",
       "      <td>1.0</td>\n",
       "      <td>11.0</td>\n",
       "      <td>1.0</td>\n",
       "      <td>&lt; 1 YEAR</td>\n",
       "      <td>NO</td>\n",
       "    </tr>\n",
       "    <tr>\n",
       "      <th>4</th>\n",
       "      <td>5.0</td>\n",
       "      <td>FEMALE</td>\n",
       "      <td>29.0</td>\n",
       "      <td>1.0</td>\n",
       "      <td>41.0</td>\n",
       "      <td>1.0</td>\n",
       "      <td>&lt; 1 YEAR</td>\n",
       "      <td>NO</td>\n",
       "    </tr>\n",
       "    <tr>\n",
       "      <th>...</th>\n",
       "      <td>...</td>\n",
       "      <td>...</td>\n",
       "      <td>...</td>\n",
       "      <td>...</td>\n",
       "      <td>...</td>\n",
       "      <td>...</td>\n",
       "      <td>...</td>\n",
       "      <td>...</td>\n",
       "    </tr>\n",
       "    <tr>\n",
       "      <th>380718</th>\n",
       "      <td>381105.0</td>\n",
       "      <td>MALE</td>\n",
       "      <td>74.0</td>\n",
       "      <td>1.0</td>\n",
       "      <td>26.0</td>\n",
       "      <td>1.0</td>\n",
       "      <td>1-2 YEAR</td>\n",
       "      <td>NO</td>\n",
       "    </tr>\n",
       "    <tr>\n",
       "      <th>380719</th>\n",
       "      <td>381106.0</td>\n",
       "      <td>MALE</td>\n",
       "      <td>30.0</td>\n",
       "      <td>1.0</td>\n",
       "      <td>37.0</td>\n",
       "      <td>1.0</td>\n",
       "      <td>&lt; 1 YEAR</td>\n",
       "      <td>NO</td>\n",
       "    </tr>\n",
       "    <tr>\n",
       "      <th>380720</th>\n",
       "      <td>381107.0</td>\n",
       "      <td>MALE</td>\n",
       "      <td>21.0</td>\n",
       "      <td>1.0</td>\n",
       "      <td>30.0</td>\n",
       "      <td>1.0</td>\n",
       "      <td>&lt; 1 YEAR</td>\n",
       "      <td>NO</td>\n",
       "    </tr>\n",
       "    <tr>\n",
       "      <th>380721</th>\n",
       "      <td>381108.0</td>\n",
       "      <td>FEMALE</td>\n",
       "      <td>68.0</td>\n",
       "      <td>1.0</td>\n",
       "      <td>14.0</td>\n",
       "      <td>0.0</td>\n",
       "      <td>&gt; 2 YEARS</td>\n",
       "      <td>YES</td>\n",
       "    </tr>\n",
       "    <tr>\n",
       "      <th>380722</th>\n",
       "      <td>381109.0</td>\n",
       "      <td>MALE</td>\n",
       "      <td>46.0</td>\n",
       "      <td>1.0</td>\n",
       "      <td>29.0</td>\n",
       "      <td>0.0</td>\n",
       "      <td>1-2 YEAR</td>\n",
       "      <td>NO</td>\n",
       "    </tr>\n",
       "  </tbody>\n",
       "</table>\n",
       "<p>380723 rows × 8 columns</p>\n",
       "</div>"
      ],
      "text/plain": [
       "        customer_id  Gender   age  driving licence present  region code  \\\n",
       "0               1.0    MALE  44.0                      1.0         28.0   \n",
       "1               2.0    MALE  76.0                      1.0          3.0   \n",
       "2               3.0    MALE  47.0                      1.0         28.0   \n",
       "3               4.0    MALE  21.0                      1.0         11.0   \n",
       "4               5.0  FEMALE  29.0                      1.0         41.0   \n",
       "...             ...     ...   ...                      ...          ...   \n",
       "380718     381105.0    MALE  74.0                      1.0         26.0   \n",
       "380719     381106.0    MALE  30.0                      1.0         37.0   \n",
       "380720     381107.0    MALE  21.0                      1.0         30.0   \n",
       "380721     381108.0  FEMALE  68.0                      1.0         14.0   \n",
       "380722     381109.0    MALE  46.0                      1.0         29.0   \n",
       "\n",
       "        previously insured vehicle age vehicle damage  \n",
       "0                      0.0   > 2 YEARS            YES  \n",
       "1                      0.0    1-2 YEAR             NO  \n",
       "2                      0.0   > 2 YEARS            YES  \n",
       "3                      1.0    < 1 YEAR             NO  \n",
       "4                      1.0    < 1 YEAR             NO  \n",
       "...                    ...         ...            ...  \n",
       "380718                 1.0    1-2 YEAR             NO  \n",
       "380719                 1.0    < 1 YEAR             NO  \n",
       "380720                 1.0    < 1 YEAR             NO  \n",
       "380721                 0.0   > 2 YEARS            YES  \n",
       "380722                 0.0    1-2 YEAR             NO  \n",
       "\n",
       "[380723 rows x 8 columns]"
      ]
     },
     "execution_count": 21,
     "metadata": {},
     "output_type": "execute_result"
    }
   ],
   "source": [
    "# convert all the characters to upper case.\n",
    "\n",
    "customerdetails.apply(lambda x: x.str.upper() if x.dtype=='object' else x)\n"
   ]
  },
  {
   "cell_type": "markdown",
   "id": "9aecbf3b",
   "metadata": {
    "id": "9aecbf3b"
   },
   "source": [
    "# Convert nominal data into dummy variables"
   ]
  },
  {
   "cell_type": "code",
   "execution_count": 22,
   "id": "598f9b1c",
   "metadata": {
    "executionInfo": {
     "elapsed": 94,
     "status": "aborted",
     "timestamp": 1669259966623,
     "user": {
      "displayName": "Laughing_Buddha",
      "userId": "09715067922076073161"
     },
     "user_tz": -330
    },
    "id": "598f9b1c"
   },
   "outputs": [
    {
     "data": {
      "text/html": [
       "<div>\n",
       "<style scoped>\n",
       "    .dataframe tbody tr th:only-of-type {\n",
       "        vertical-align: middle;\n",
       "    }\n",
       "\n",
       "    .dataframe tbody tr th {\n",
       "        vertical-align: top;\n",
       "    }\n",
       "\n",
       "    .dataframe thead th {\n",
       "        text-align: right;\n",
       "    }\n",
       "</style>\n",
       "<table border=\"1\" class=\"dataframe\">\n",
       "  <thead>\n",
       "    <tr style=\"text-align: right;\">\n",
       "      <th></th>\n",
       "      <th>No</th>\n",
       "      <th>Yes</th>\n",
       "    </tr>\n",
       "  </thead>\n",
       "  <tbody>\n",
       "    <tr>\n",
       "      <th>0</th>\n",
       "      <td>False</td>\n",
       "      <td>True</td>\n",
       "    </tr>\n",
       "    <tr>\n",
       "      <th>1</th>\n",
       "      <td>True</td>\n",
       "      <td>False</td>\n",
       "    </tr>\n",
       "    <tr>\n",
       "      <th>2</th>\n",
       "      <td>False</td>\n",
       "      <td>True</td>\n",
       "    </tr>\n",
       "    <tr>\n",
       "      <th>3</th>\n",
       "      <td>True</td>\n",
       "      <td>False</td>\n",
       "    </tr>\n",
       "    <tr>\n",
       "      <th>4</th>\n",
       "      <td>True</td>\n",
       "      <td>False</td>\n",
       "    </tr>\n",
       "  </tbody>\n",
       "</table>\n",
       "</div>"
      ],
      "text/plain": [
       "      No    Yes\n",
       "0  False   True\n",
       "1   True  False\n",
       "2  False   True\n",
       "3   True  False\n",
       "4   True  False"
      ]
     },
     "execution_count": 22,
     "metadata": {},
     "output_type": "execute_result"
    }
   ],
   "source": [
    "dummy_variable_1 = pd.get_dummies(customerdetails[\"vehicle damage\"]) \n",
    "\n",
    "dummy_variable_1.head()"
   ]
  },
  {
   "cell_type": "code",
   "execution_count": 23,
   "id": "68e2d359",
   "metadata": {
    "executionInfo": {
     "elapsed": 95,
     "status": "aborted",
     "timestamp": 1669259966624,
     "user": {
      "displayName": "Laughing_Buddha",
      "userId": "09715067922076073161"
     },
     "user_tz": -330
    },
    "id": "68e2d359"
   },
   "outputs": [
    {
     "data": {
      "text/html": [
       "<div>\n",
       "<style scoped>\n",
       "    .dataframe tbody tr th:only-of-type {\n",
       "        vertical-align: middle;\n",
       "    }\n",
       "\n",
       "    .dataframe tbody tr th {\n",
       "        vertical-align: top;\n",
       "    }\n",
       "\n",
       "    .dataframe thead th {\n",
       "        text-align: right;\n",
       "    }\n",
       "</style>\n",
       "<table border=\"1\" class=\"dataframe\">\n",
       "  <thead>\n",
       "    <tr style=\"text-align: right;\">\n",
       "      <th></th>\n",
       "      <th>vehicle-damage-No</th>\n",
       "      <th>vehicle-damage-Yes</th>\n",
       "    </tr>\n",
       "  </thead>\n",
       "  <tbody>\n",
       "    <tr>\n",
       "      <th>0</th>\n",
       "      <td>False</td>\n",
       "      <td>True</td>\n",
       "    </tr>\n",
       "    <tr>\n",
       "      <th>1</th>\n",
       "      <td>True</td>\n",
       "      <td>False</td>\n",
       "    </tr>\n",
       "    <tr>\n",
       "      <th>2</th>\n",
       "      <td>False</td>\n",
       "      <td>True</td>\n",
       "    </tr>\n",
       "    <tr>\n",
       "      <th>3</th>\n",
       "      <td>True</td>\n",
       "      <td>False</td>\n",
       "    </tr>\n",
       "    <tr>\n",
       "      <th>4</th>\n",
       "      <td>True</td>\n",
       "      <td>False</td>\n",
       "    </tr>\n",
       "  </tbody>\n",
       "</table>\n",
       "</div>"
      ],
      "text/plain": [
       "   vehicle-damage-No  vehicle-damage-Yes\n",
       "0              False                True\n",
       "1               True               False\n",
       "2              False                True\n",
       "3               True               False\n",
       "4               True               False"
      ]
     },
     "execution_count": 23,
     "metadata": {},
     "output_type": "execute_result"
    }
   ],
   "source": [
    "# Changing the column names for dummy variable\n",
    "\n",
    "dummy_variable_1.rename(columns={'No':'vehicle-damage-No', 'Yes':'vehicle-damage-Yes'}, inplace=True)\n",
    "\n",
    "dummy_variable_1.head()"
   ]
  },
  {
   "cell_type": "markdown",
   "id": "9c335479",
   "metadata": {
    "id": "9c335479"
   },
   "source": [
    "# Drop Duplicates.\n"
   ]
  },
  {
   "cell_type": "code",
   "execution_count": 24,
   "id": "0c54683e",
   "metadata": {
    "executionInfo": {
     "elapsed": 94,
     "status": "aborted",
     "timestamp": 1669259966624,
     "user": {
      "displayName": "Laughing_Buddha",
      "userId": "09715067922076073161"
     },
     "user_tz": -330
    },
    "id": "0c54683e"
   },
   "outputs": [
    {
     "data": {
      "text/html": [
       "<div>\n",
       "<style scoped>\n",
       "    .dataframe tbody tr th:only-of-type {\n",
       "        vertical-align: middle;\n",
       "    }\n",
       "\n",
       "    .dataframe tbody tr th {\n",
       "        vertical-align: top;\n",
       "    }\n",
       "\n",
       "    .dataframe thead th {\n",
       "        text-align: right;\n",
       "    }\n",
       "</style>\n",
       "<table border=\"1\" class=\"dataframe\">\n",
       "  <thead>\n",
       "    <tr style=\"text-align: right;\">\n",
       "      <th></th>\n",
       "      <th>customer_id</th>\n",
       "      <th>annual premium (in Rs)</th>\n",
       "      <th>sales channel code</th>\n",
       "      <th>vintage</th>\n",
       "      <th>responce</th>\n",
       "    </tr>\n",
       "  </thead>\n",
       "  <tbody>\n",
       "    <tr>\n",
       "      <th>0</th>\n",
       "      <td>1.0</td>\n",
       "      <td>40454.0</td>\n",
       "      <td>26.0</td>\n",
       "      <td>217.0</td>\n",
       "      <td>1.0</td>\n",
       "    </tr>\n",
       "    <tr>\n",
       "      <th>1</th>\n",
       "      <td>2.0</td>\n",
       "      <td>33536.0</td>\n",
       "      <td>26.0</td>\n",
       "      <td>183.0</td>\n",
       "      <td>0.0</td>\n",
       "    </tr>\n",
       "    <tr>\n",
       "      <th>2</th>\n",
       "      <td>3.0</td>\n",
       "      <td>38294.0</td>\n",
       "      <td>26.0</td>\n",
       "      <td>27.0</td>\n",
       "      <td>1.0</td>\n",
       "    </tr>\n",
       "    <tr>\n",
       "      <th>3</th>\n",
       "      <td>4.0</td>\n",
       "      <td>28619.0</td>\n",
       "      <td>152.0</td>\n",
       "      <td>203.0</td>\n",
       "      <td>0.0</td>\n",
       "    </tr>\n",
       "    <tr>\n",
       "      <th>4</th>\n",
       "      <td>5.0</td>\n",
       "      <td>27496.0</td>\n",
       "      <td>152.0</td>\n",
       "      <td>39.0</td>\n",
       "      <td>0.0</td>\n",
       "    </tr>\n",
       "  </tbody>\n",
       "</table>\n",
       "</div>"
      ],
      "text/plain": [
       "   customer_id  annual premium (in Rs)  sales channel code  vintage  responce\n",
       "0          1.0                 40454.0                26.0    217.0       1.0\n",
       "1          2.0                 33536.0                26.0    183.0       0.0\n",
       "2          3.0                 38294.0                26.0     27.0       1.0\n",
       "3          4.0                 28619.0               152.0    203.0       0.0\n",
       "4          5.0                 27496.0               152.0     39.0       0.0"
      ]
     },
     "execution_count": 24,
     "metadata": {},
     "output_type": "execute_result"
    }
   ],
   "source": [
    "customerpolicydetails.drop_duplicates()\n",
    "customerpolicydetails.head()"
   ]
  },
  {
   "cell_type": "code",
   "execution_count": 25,
   "id": "3267bc8a",
   "metadata": {
    "executionInfo": {
     "elapsed": 96,
     "status": "aborted",
     "timestamp": 1669259966626,
     "user": {
      "displayName": "Laughing_Buddha",
      "userId": "09715067922076073161"
     },
     "user_tz": -330
    },
    "id": "3267bc8a"
   },
   "outputs": [
    {
     "data": {
      "text/html": [
       "<div>\n",
       "<style scoped>\n",
       "    .dataframe tbody tr th:only-of-type {\n",
       "        vertical-align: middle;\n",
       "    }\n",
       "\n",
       "    .dataframe tbody tr th {\n",
       "        vertical-align: top;\n",
       "    }\n",
       "\n",
       "    .dataframe thead th {\n",
       "        text-align: right;\n",
       "    }\n",
       "</style>\n",
       "<table border=\"1\" class=\"dataframe\">\n",
       "  <thead>\n",
       "    <tr style=\"text-align: right;\">\n",
       "      <th></th>\n",
       "      <th>customer_id</th>\n",
       "      <th>Gender</th>\n",
       "      <th>age</th>\n",
       "      <th>driving licence present</th>\n",
       "      <th>region code</th>\n",
       "      <th>previously insured</th>\n",
       "      <th>vehicle age</th>\n",
       "      <th>vehicle damage</th>\n",
       "    </tr>\n",
       "  </thead>\n",
       "  <tbody>\n",
       "    <tr>\n",
       "      <th>0</th>\n",
       "      <td>1.0</td>\n",
       "      <td>Male</td>\n",
       "      <td>44.0</td>\n",
       "      <td>1.0</td>\n",
       "      <td>28.0</td>\n",
       "      <td>0.0</td>\n",
       "      <td>&gt; 2 Years</td>\n",
       "      <td>Yes</td>\n",
       "    </tr>\n",
       "    <tr>\n",
       "      <th>1</th>\n",
       "      <td>2.0</td>\n",
       "      <td>Male</td>\n",
       "      <td>76.0</td>\n",
       "      <td>1.0</td>\n",
       "      <td>3.0</td>\n",
       "      <td>0.0</td>\n",
       "      <td>1-2 Year</td>\n",
       "      <td>No</td>\n",
       "    </tr>\n",
       "    <tr>\n",
       "      <th>2</th>\n",
       "      <td>3.0</td>\n",
       "      <td>Male</td>\n",
       "      <td>47.0</td>\n",
       "      <td>1.0</td>\n",
       "      <td>28.0</td>\n",
       "      <td>0.0</td>\n",
       "      <td>&gt; 2 Years</td>\n",
       "      <td>Yes</td>\n",
       "    </tr>\n",
       "    <tr>\n",
       "      <th>3</th>\n",
       "      <td>4.0</td>\n",
       "      <td>Male</td>\n",
       "      <td>21.0</td>\n",
       "      <td>1.0</td>\n",
       "      <td>11.0</td>\n",
       "      <td>1.0</td>\n",
       "      <td>&lt; 1 Year</td>\n",
       "      <td>No</td>\n",
       "    </tr>\n",
       "    <tr>\n",
       "      <th>4</th>\n",
       "      <td>5.0</td>\n",
       "      <td>Female</td>\n",
       "      <td>29.0</td>\n",
       "      <td>1.0</td>\n",
       "      <td>41.0</td>\n",
       "      <td>1.0</td>\n",
       "      <td>&lt; 1 Year</td>\n",
       "      <td>No</td>\n",
       "    </tr>\n",
       "  </tbody>\n",
       "</table>\n",
       "</div>"
      ],
      "text/plain": [
       "   customer_id  Gender   age  driving licence present  region code  \\\n",
       "0          1.0    Male  44.0                      1.0         28.0   \n",
       "1          2.0    Male  76.0                      1.0          3.0   \n",
       "2          3.0    Male  47.0                      1.0         28.0   \n",
       "3          4.0    Male  21.0                      1.0         11.0   \n",
       "4          5.0  Female  29.0                      1.0         41.0   \n",
       "\n",
       "   previously insured vehicle age vehicle damage  \n",
       "0                 0.0   > 2 Years            Yes  \n",
       "1                 0.0    1-2 Year             No  \n",
       "2                 0.0   > 2 Years            Yes  \n",
       "3                 1.0    < 1 Year             No  \n",
       "4                 1.0    < 1 Year             No  "
      ]
     },
     "execution_count": 25,
     "metadata": {},
     "output_type": "execute_result"
    }
   ],
   "source": [
    "customerdetails.drop_duplicates()\n",
    "customerdetails.head()"
   ]
  },
  {
   "cell_type": "markdown",
   "id": "2f706a78",
   "metadata": {
    "id": "2f706a78"
   },
   "source": [
    "# 3. Merging the data sets."
   ]
  },
  {
   "cell_type": "code",
   "execution_count": 26,
   "id": "3997a0bb",
   "metadata": {
    "executionInfo": {
     "elapsed": 96,
     "status": "aborted",
     "timestamp": 1669259966626,
     "user": {
      "displayName": "Laughing_Buddha",
      "userId": "09715067922076073161"
     },
     "user_tz": -330
    },
    "id": "3997a0bb"
   },
   "outputs": [],
   "source": [
    "master_data = pd.merge(customerdetails,customerpolicydetails,on='customer_id')"
   ]
  },
  {
   "cell_type": "code",
   "execution_count": 27,
   "id": "2534ffc3",
   "metadata": {
    "executionInfo": {
     "elapsed": 96,
     "status": "aborted",
     "timestamp": 1669259966627,
     "user": {
      "displayName": "Laughing_Buddha",
      "userId": "09715067922076073161"
     },
     "user_tz": -330
    },
    "id": "2534ffc3"
   },
   "outputs": [
    {
     "data": {
      "text/html": [
       "<div>\n",
       "<style scoped>\n",
       "    .dataframe tbody tr th:only-of-type {\n",
       "        vertical-align: middle;\n",
       "    }\n",
       "\n",
       "    .dataframe tbody tr th {\n",
       "        vertical-align: top;\n",
       "    }\n",
       "\n",
       "    .dataframe thead th {\n",
       "        text-align: right;\n",
       "    }\n",
       "</style>\n",
       "<table border=\"1\" class=\"dataframe\">\n",
       "  <thead>\n",
       "    <tr style=\"text-align: right;\">\n",
       "      <th></th>\n",
       "      <th>customer_id</th>\n",
       "      <th>Gender</th>\n",
       "      <th>age</th>\n",
       "      <th>driving licence present</th>\n",
       "      <th>region code</th>\n",
       "      <th>previously insured</th>\n",
       "      <th>vehicle age</th>\n",
       "      <th>vehicle damage</th>\n",
       "      <th>annual premium (in Rs)</th>\n",
       "      <th>sales channel code</th>\n",
       "      <th>vintage</th>\n",
       "      <th>responce</th>\n",
       "    </tr>\n",
       "  </thead>\n",
       "  <tbody>\n",
       "    <tr>\n",
       "      <th>0</th>\n",
       "      <td>1.0</td>\n",
       "      <td>Male</td>\n",
       "      <td>44.0</td>\n",
       "      <td>1.0</td>\n",
       "      <td>28.0</td>\n",
       "      <td>0.0</td>\n",
       "      <td>&gt; 2 Years</td>\n",
       "      <td>Yes</td>\n",
       "      <td>40454.0</td>\n",
       "      <td>26.0</td>\n",
       "      <td>217.0</td>\n",
       "      <td>1.0</td>\n",
       "    </tr>\n",
       "    <tr>\n",
       "      <th>1</th>\n",
       "      <td>2.0</td>\n",
       "      <td>Male</td>\n",
       "      <td>76.0</td>\n",
       "      <td>1.0</td>\n",
       "      <td>3.0</td>\n",
       "      <td>0.0</td>\n",
       "      <td>1-2 Year</td>\n",
       "      <td>No</td>\n",
       "      <td>33536.0</td>\n",
       "      <td>26.0</td>\n",
       "      <td>183.0</td>\n",
       "      <td>0.0</td>\n",
       "    </tr>\n",
       "    <tr>\n",
       "      <th>2</th>\n",
       "      <td>3.0</td>\n",
       "      <td>Male</td>\n",
       "      <td>47.0</td>\n",
       "      <td>1.0</td>\n",
       "      <td>28.0</td>\n",
       "      <td>0.0</td>\n",
       "      <td>&gt; 2 Years</td>\n",
       "      <td>Yes</td>\n",
       "      <td>38294.0</td>\n",
       "      <td>26.0</td>\n",
       "      <td>27.0</td>\n",
       "      <td>1.0</td>\n",
       "    </tr>\n",
       "    <tr>\n",
       "      <th>3</th>\n",
       "      <td>4.0</td>\n",
       "      <td>Male</td>\n",
       "      <td>21.0</td>\n",
       "      <td>1.0</td>\n",
       "      <td>11.0</td>\n",
       "      <td>1.0</td>\n",
       "      <td>&lt; 1 Year</td>\n",
       "      <td>No</td>\n",
       "      <td>28619.0</td>\n",
       "      <td>152.0</td>\n",
       "      <td>203.0</td>\n",
       "      <td>0.0</td>\n",
       "    </tr>\n",
       "    <tr>\n",
       "      <th>4</th>\n",
       "      <td>5.0</td>\n",
       "      <td>Female</td>\n",
       "      <td>29.0</td>\n",
       "      <td>1.0</td>\n",
       "      <td>41.0</td>\n",
       "      <td>1.0</td>\n",
       "      <td>&lt; 1 Year</td>\n",
       "      <td>No</td>\n",
       "      <td>27496.0</td>\n",
       "      <td>152.0</td>\n",
       "      <td>39.0</td>\n",
       "      <td>0.0</td>\n",
       "    </tr>\n",
       "    <tr>\n",
       "      <th>...</th>\n",
       "      <td>...</td>\n",
       "      <td>...</td>\n",
       "      <td>...</td>\n",
       "      <td>...</td>\n",
       "      <td>...</td>\n",
       "      <td>...</td>\n",
       "      <td>...</td>\n",
       "      <td>...</td>\n",
       "      <td>...</td>\n",
       "      <td>...</td>\n",
       "      <td>...</td>\n",
       "      <td>...</td>\n",
       "    </tr>\n",
       "    <tr>\n",
       "      <th>380331</th>\n",
       "      <td>381105.0</td>\n",
       "      <td>Male</td>\n",
       "      <td>74.0</td>\n",
       "      <td>1.0</td>\n",
       "      <td>26.0</td>\n",
       "      <td>1.0</td>\n",
       "      <td>1-2 Year</td>\n",
       "      <td>No</td>\n",
       "      <td>30170.0</td>\n",
       "      <td>26.0</td>\n",
       "      <td>88.0</td>\n",
       "      <td>0.0</td>\n",
       "    </tr>\n",
       "    <tr>\n",
       "      <th>380332</th>\n",
       "      <td>381106.0</td>\n",
       "      <td>Male</td>\n",
       "      <td>30.0</td>\n",
       "      <td>1.0</td>\n",
       "      <td>37.0</td>\n",
       "      <td>1.0</td>\n",
       "      <td>&lt; 1 Year</td>\n",
       "      <td>No</td>\n",
       "      <td>40016.0</td>\n",
       "      <td>152.0</td>\n",
       "      <td>131.0</td>\n",
       "      <td>0.0</td>\n",
       "    </tr>\n",
       "    <tr>\n",
       "      <th>380333</th>\n",
       "      <td>381107.0</td>\n",
       "      <td>Male</td>\n",
       "      <td>21.0</td>\n",
       "      <td>1.0</td>\n",
       "      <td>30.0</td>\n",
       "      <td>1.0</td>\n",
       "      <td>&lt; 1 Year</td>\n",
       "      <td>No</td>\n",
       "      <td>35118.0</td>\n",
       "      <td>160.0</td>\n",
       "      <td>161.0</td>\n",
       "      <td>0.0</td>\n",
       "    </tr>\n",
       "    <tr>\n",
       "      <th>380334</th>\n",
       "      <td>381108.0</td>\n",
       "      <td>Female</td>\n",
       "      <td>68.0</td>\n",
       "      <td>1.0</td>\n",
       "      <td>14.0</td>\n",
       "      <td>0.0</td>\n",
       "      <td>&gt; 2 Years</td>\n",
       "      <td>Yes</td>\n",
       "      <td>44617.0</td>\n",
       "      <td>124.0</td>\n",
       "      <td>74.0</td>\n",
       "      <td>0.0</td>\n",
       "    </tr>\n",
       "    <tr>\n",
       "      <th>380335</th>\n",
       "      <td>381109.0</td>\n",
       "      <td>Male</td>\n",
       "      <td>46.0</td>\n",
       "      <td>1.0</td>\n",
       "      <td>29.0</td>\n",
       "      <td>0.0</td>\n",
       "      <td>1-2 Year</td>\n",
       "      <td>No</td>\n",
       "      <td>41777.0</td>\n",
       "      <td>26.0</td>\n",
       "      <td>237.0</td>\n",
       "      <td>0.0</td>\n",
       "    </tr>\n",
       "  </tbody>\n",
       "</table>\n",
       "<p>380336 rows × 12 columns</p>\n",
       "</div>"
      ],
      "text/plain": [
       "        customer_id  Gender   age  driving licence present  region code  \\\n",
       "0               1.0    Male  44.0                      1.0         28.0   \n",
       "1               2.0    Male  76.0                      1.0          3.0   \n",
       "2               3.0    Male  47.0                      1.0         28.0   \n",
       "3               4.0    Male  21.0                      1.0         11.0   \n",
       "4               5.0  Female  29.0                      1.0         41.0   \n",
       "...             ...     ...   ...                      ...          ...   \n",
       "380331     381105.0    Male  74.0                      1.0         26.0   \n",
       "380332     381106.0    Male  30.0                      1.0         37.0   \n",
       "380333     381107.0    Male  21.0                      1.0         30.0   \n",
       "380334     381108.0  Female  68.0                      1.0         14.0   \n",
       "380335     381109.0    Male  46.0                      1.0         29.0   \n",
       "\n",
       "        previously insured vehicle age vehicle damage  annual premium (in Rs)  \\\n",
       "0                      0.0   > 2 Years            Yes                 40454.0   \n",
       "1                      0.0    1-2 Year             No                 33536.0   \n",
       "2                      0.0   > 2 Years            Yes                 38294.0   \n",
       "3                      1.0    < 1 Year             No                 28619.0   \n",
       "4                      1.0    < 1 Year             No                 27496.0   \n",
       "...                    ...         ...            ...                     ...   \n",
       "380331                 1.0    1-2 Year             No                 30170.0   \n",
       "380332                 1.0    < 1 Year             No                 40016.0   \n",
       "380333                 1.0    < 1 Year             No                 35118.0   \n",
       "380334                 0.0   > 2 Years            Yes                 44617.0   \n",
       "380335                 0.0    1-2 Year             No                 41777.0   \n",
       "\n",
       "        sales channel code  vintage  responce  \n",
       "0                     26.0    217.0       1.0  \n",
       "1                     26.0    183.0       0.0  \n",
       "2                     26.0     27.0       1.0  \n",
       "3                    152.0    203.0       0.0  \n",
       "4                    152.0     39.0       0.0  \n",
       "...                    ...      ...       ...  \n",
       "380331                26.0     88.0       0.0  \n",
       "380332               152.0    131.0       0.0  \n",
       "380333               160.0    161.0       0.0  \n",
       "380334               124.0     74.0       0.0  \n",
       "380335                26.0    237.0       0.0  \n",
       "\n",
       "[380336 rows x 12 columns]"
      ]
     },
     "execution_count": 27,
     "metadata": {},
     "output_type": "execute_result"
    }
   ],
   "source": [
    "master_data"
   ]
  },
  {
   "cell_type": "markdown",
   "id": "80247853",
   "metadata": {
    "id": "80247853"
   },
   "source": [
    "# 4. getting required data for decisions"
   ]
  },
  {
   "cell_type": "markdown",
   "id": "9b023bda",
   "metadata": {
    "id": "9b023bda"
   },
   "source": [
    "# Gender wise average annual premium"
   ]
  },
  {
   "cell_type": "code",
   "execution_count": 28,
   "id": "21a4ba1b",
   "metadata": {
    "executionInfo": {
     "elapsed": 96,
     "status": "aborted",
     "timestamp": 1669259966627,
     "user": {
      "displayName": "Laughing_Buddha",
      "userId": "09715067922076073161"
     },
     "user_tz": -330
    },
    "id": "21a4ba1b",
    "scrolled": true
   },
   "outputs": [],
   "source": [
    "gender_data = master_data.groupby('Gender')['annual premium (in Rs)'].mean()"
   ]
  },
  {
   "cell_type": "code",
   "execution_count": 29,
   "id": "e53eae16",
   "metadata": {
    "executionInfo": {
     "elapsed": 97,
     "status": "aborted",
     "timestamp": 1669259966628,
     "user": {
      "displayName": "Laughing_Buddha",
      "userId": "09715067922076073161"
     },
     "user_tz": -330
    },
    "id": "e53eae16"
   },
   "outputs": [
    {
     "data": {
      "text/plain": [
       "Gender\n",
       "Female    29273.474247\n",
       "Male      29323.022594\n",
       "Name: annual premium (in Rs), dtype: float64"
      ]
     },
     "execution_count": 29,
     "metadata": {},
     "output_type": "execute_result"
    }
   ],
   "source": [
    "gender_data"
   ]
  },
  {
   "cell_type": "code",
   "execution_count": 30,
   "id": "39bd1216",
   "metadata": {
    "executionInfo": {
     "elapsed": 97,
     "status": "aborted",
     "timestamp": 1669259966629,
     "user": {
      "displayName": "Laughing_Buddha",
      "userId": "09715067922076073161"
     },
     "user_tz": -330
    },
    "id": "39bd1216"
   },
   "outputs": [
    {
     "data": {
      "text/plain": [
       "<Axes: xlabel='Gender'>"
      ]
     },
     "execution_count": 30,
     "metadata": {},
     "output_type": "execute_result"
    },
    {
     "data": {
      "image/png": "[encoded data removed]",
      "text/plain": [
       "<Figure size 640x480 with 1 Axes>"
      ]
     },
     "metadata": {},
     "output_type": "display_data"
    }
   ],
   "source": [
    "gender_data.plot()"
   ]
  },
  {
   "cell_type": "code",
   "execution_count": 31,
   "id": "ae896baf",
   "metadata": {
    "executionInfo": {
     "elapsed": 97,
     "status": "aborted",
     "timestamp": 1669259966630,
     "user": {
      "displayName": "Laughing_Buddha",
      "userId": "09715067922076073161"
     },
     "user_tz": -330
    },
    "id": "ae896baf"
   },
   "outputs": [
    {
     "data": {
      "text/plain": [
       "<Axes: xlabel='Gender'>"
      ]
     },
     "execution_count": 31,
     "metadata": {},
     "output_type": "execute_result"
    },
    {
     "data": {
      "image/png": "[encoded data removed]",
      "text/plain": [
       "<Figure size 640x480 with 1 Axes>"
      ]
     },
     "metadata": {},
     "output_type": "display_data"
    }
   ],
   "source": [
    "gender_data.plot.bar()"
   ]
  },
  {
   "cell_type": "markdown",
   "id": "34147821",
   "metadata": {
    "id": "34147821"
   },
   "source": [
    "# age wise average annual premium"
   ]
  },
  {
   "cell_type": "code",
   "execution_count": 32,
   "id": "813f48c8",
   "metadata": {
    "executionInfo": {
     "elapsed": 97,
     "status": "aborted",
     "timestamp": 1669259966630,
     "user": {
      "displayName": "Laughing_Buddha",
      "userId": "09715067922076073161"
     },
     "user_tz": -330
    },
    "id": "813f48c8"
   },
   "outputs": [
    {
     "data": {
      "text/plain": [
       "age\n",
       "20.0    26342.073517\n",
       "21.0    29751.791916\n",
       "22.0    29946.848634\n",
       "23.0    29838.344763\n",
       "24.0    30125.557096\n",
       "            ...     \n",
       "81.0    29287.910702\n",
       "82.0    36480.586199\n",
       "83.0    28995.818172\n",
       "84.0    35440.818182\n",
       "85.0    26637.454525\n",
       "Name: annual premium (in Rs), Length: 67, dtype: float64"
      ]
     },
     "execution_count": 32,
     "metadata": {},
     "output_type": "execute_result"
    }
   ],
   "source": [
    "age_data = master_data.groupby('age')['annual premium (in Rs)'].mean()\n",
    "\n",
    "age_data"
   ]
  },
  {
   "cell_type": "code",
   "execution_count": 33,
   "id": "36dfeee1",
   "metadata": {
    "executionInfo": {
     "elapsed": 96,
     "status": "aborted",
     "timestamp": 1669259966630,
     "user": {
      "displayName": "Laughing_Buddha",
      "userId": "09715067922076073161"
     },
     "user_tz": -330
    },
    "id": "36dfeee1"
   },
   "outputs": [
    {
     "data": {
      "text/plain": [
       "<Axes: xlabel='age'>"
      ]
     },
     "execution_count": 33,
     "metadata": {},
     "output_type": "execute_result"
    },
    {
     "data": {
      "image/png": "[encoded data removed]",
      "text/plain": [
       "<Figure size 640x480 with 1 Axes>"
      ]
     },
     "metadata": {},
     "output_type": "display_data"
    }
   ],
   "source": [
    "age_data.plot()"
   ]
  },
  {
   "cell_type": "markdown",
   "id": "a062b3a1",
   "metadata": {
    "id": "a062b3a1"
   },
   "source": [
    "#  Checking Balanced between gender or not.."
   ]
  },
  {
   "cell_type": "code",
   "execution_count": 34,
   "id": "77412e7d",
   "metadata": {
    "executionInfo": {
     "elapsed": 97,
     "status": "aborted",
     "timestamp": 1669259966631,
     "user": {
      "displayName": "Laughing_Buddha",
      "userId": "09715067922076073161"
     },
     "user_tz": -330
    },
    "id": "77412e7d"
   },
   "outputs": [
    {
     "data": {
      "text/html": [
       "<div>\n",
       "<style scoped>\n",
       "    .dataframe tbody tr th:only-of-type {\n",
       "        vertical-align: middle;\n",
       "    }\n",
       "\n",
       "    .dataframe tbody tr th {\n",
       "        vertical-align: top;\n",
       "    }\n",
       "\n",
       "    .dataframe thead th {\n",
       "        text-align: right;\n",
       "    }\n",
       "</style>\n",
       "<table border=\"1\" class=\"dataframe\">\n",
       "  <thead>\n",
       "    <tr style=\"text-align: right;\">\n",
       "      <th></th>\n",
       "      <th>customer_id</th>\n",
       "      <th>age</th>\n",
       "      <th>driving licence present</th>\n",
       "      <th>region code</th>\n",
       "      <th>previously insured</th>\n",
       "      <th>vehicle age</th>\n",
       "      <th>vehicle damage</th>\n",
       "      <th>annual premium (in Rs)</th>\n",
       "      <th>sales channel code</th>\n",
       "      <th>vintage</th>\n",
       "      <th>responce</th>\n",
       "    </tr>\n",
       "    <tr>\n",
       "      <th>Gender</th>\n",
       "      <th></th>\n",
       "      <th></th>\n",
       "      <th></th>\n",
       "      <th></th>\n",
       "      <th></th>\n",
       "      <th></th>\n",
       "      <th></th>\n",
       "      <th></th>\n",
       "      <th></th>\n",
       "      <th></th>\n",
       "      <th></th>\n",
       "    </tr>\n",
       "  </thead>\n",
       "  <tbody>\n",
       "    <tr>\n",
       "      <th>Female</th>\n",
       "      <td>174485</td>\n",
       "      <td>174485</td>\n",
       "      <td>174485</td>\n",
       "      <td>174485</td>\n",
       "      <td>174485</td>\n",
       "      <td>174309</td>\n",
       "      <td>174300</td>\n",
       "      <td>174485</td>\n",
       "      <td>174485</td>\n",
       "      <td>174485</td>\n",
       "      <td>174485</td>\n",
       "    </tr>\n",
       "    <tr>\n",
       "      <th>Male</th>\n",
       "      <td>205484</td>\n",
       "      <td>205484</td>\n",
       "      <td>205484</td>\n",
       "      <td>205484</td>\n",
       "      <td>205484</td>\n",
       "      <td>205279</td>\n",
       "      <td>205266</td>\n",
       "      <td>205484</td>\n",
       "      <td>205484</td>\n",
       "      <td>205484</td>\n",
       "      <td>205484</td>\n",
       "    </tr>\n",
       "  </tbody>\n",
       "</table>\n",
       "</div>"
      ],
      "text/plain": [
       "        customer_id     age  driving licence present  region code  \\\n",
       "Gender                                                              \n",
       "Female       174485  174485                   174485       174485   \n",
       "Male         205484  205484                   205484       205484   \n",
       "\n",
       "        previously insured  vehicle age  vehicle damage  \\\n",
       "Gender                                                    \n",
       "Female              174485       174309          174300   \n",
       "Male                205484       205279          205266   \n",
       "\n",
       "        annual premium (in Rs)  sales channel code  vintage  responce  \n",
       "Gender                                                                 \n",
       "Female                  174485              174485   174485    174485  \n",
       "Male                    205484              205484   205484    205484  "
      ]
     },
     "execution_count": 34,
     "metadata": {},
     "output_type": "execute_result"
    }
   ],
   "source": [
    "master_data.groupby('Gender').count()"
   ]
  },
  {
   "cell_type": "markdown",
   "id": "78a37d30",
   "metadata": {
    "id": "78a37d30"
   },
   "source": [
    "# Vehicle age wise average annual premium"
   ]
  },
  {
   "cell_type": "code",
   "execution_count": 35,
   "id": "8f67eb73",
   "metadata": {
    "executionInfo": {
     "elapsed": 96,
     "status": "aborted",
     "timestamp": 1669259966631,
     "user": {
      "displayName": "Laughing_Buddha",
      "userId": "09715067922076073161"
     },
     "user_tz": -330
    },
    "id": "8f67eb73"
   },
   "outputs": [
    {
     "data": {
      "text/plain": [
       "vehicle age\n",
       "1-2 Year     29099.066738\n",
       "< 1 Year     29188.150594\n",
       "> 2 Years    32943.540830\n",
       "Name: annual premium (in Rs), dtype: float64"
      ]
     },
     "execution_count": 35,
     "metadata": {},
     "output_type": "execute_result"
    }
   ],
   "source": [
    "vehicle_age = master_data.groupby('vehicle age')['annual premium (in Rs)'].mean()\n",
    "\n",
    "vehicle_age"
   ]
  },
  {
   "cell_type": "code",
   "execution_count": 36,
   "id": "2d93f5d6",
   "metadata": {
    "executionInfo": {
     "elapsed": 97,
     "status": "aborted",
     "timestamp": 1669259966632,
     "user": {
      "displayName": "Laughing_Buddha",
      "userId": "09715067922076073161"
     },
     "user_tz": -330
    },
    "id": "2d93f5d6"
   },
   "outputs": [
    {
     "data": {
      "text/plain": [
       "<Axes: xlabel='vehicle age'>"
      ]
     },
     "execution_count": 36,
     "metadata": {},
     "output_type": "execute_result"
    },
    {
     "data": {
      "image/png": "[encoded data removed]",
      "text/plain": [
       "<Figure size 640x480 with 1 Axes>"
      ]
     },
     "metadata": {},
     "output_type": "display_data"
    }
   ],
   "source": [
    "vehicle_age.plot.bar()"
   ]
  },
  {
   "cell_type": "markdown",
   "id": "978cc166",
   "metadata": {
    "id": "978cc166"
   },
   "source": [
    "# 5. Correlation between age and annual premuim\n",
    "# Pearson Correlation\n",
    "# The Pearson Correlation measures the linear dependence between two variables X and Y.\n",
    "\n",
    "# The resulting coefficient is a value between -1 and 1 inclusive, where:\n",
    "\n",
    "# 1: Perfect positive linear correlation.\n",
    "# 0: No linear correlation, the two variables most likely do not affect each other.\n",
    "# -1: Perfect negative linear correlation.\n",
    "# Correlation coefficient < -0.5 - Strong negative relationship\n",
    "\n",
    "# Correlation coefficient > 0.5 - Strong positive relationship\n",
    "\n",
    "# -0.5 < Correlation coefficient < 0.5 - There is no relationship.\n",
    "\n",
    " "
   ]
  },
  {
   "cell_type": "code",
   "execution_count": 37,
   "id": "ec929032",
   "metadata": {
    "executionInfo": {
     "elapsed": 97,
     "status": "aborted",
     "timestamp": 1669259966632,
     "user": {
      "displayName": "Laughing_Buddha",
      "userId": "09715067922076073161"
     },
     "user_tz": -330
    },
    "id": "ec929032",
    "scrolled": true
   },
   "outputs": [
    {
     "ename": "ValueError",
     "evalue": "could not convert string to float: 'Male'",
     "output_type": "error",
     "traceback": [
      "\u001b[1;31m---------------------------------------------------------------------------\u001b[0m",
      "\u001b[1;31mValueError\u001b[0m                                Traceback (most recent call last)",
      "Cell \u001b[1;32mIn[37], line 1\u001b[0m\n\u001b[1;32m----> 1\u001b[0m master_data\u001b[38;5;241m.\u001b[39mcorr()\n",
      "File \u001b[1;32m~\\anaconda3\\Lib\\site-packages\\pandas\\core\\frame.py:10054\u001b[0m, in \u001b[0;36mDataFrame.corr\u001b[1;34m(self, method, min_periods, numeric_only)\u001b[0m\n\u001b[0;32m  10052\u001b[0m cols \u001b[38;5;241m=\u001b[39m data\u001b[38;5;241m.\u001b[39mcolumns\n\u001b[0;32m  10053\u001b[0m idx \u001b[38;5;241m=\u001b[39m cols\u001b[38;5;241m.\u001b[39mcopy()\n\u001b[1;32m> 10054\u001b[0m mat \u001b[38;5;241m=\u001b[39m data\u001b[38;5;241m.\u001b[39mto_numpy(dtype\u001b[38;5;241m=\u001b[39m\u001b[38;5;28mfloat\u001b[39m, na_value\u001b[38;5;241m=\u001b[39mnp\u001b[38;5;241m.\u001b[39mnan, copy\u001b[38;5;241m=\u001b[39m\u001b[38;5;28;01mFalse\u001b[39;00m)\n\u001b[0;32m  10056\u001b[0m \u001b[38;5;28;01mif\u001b[39;00m method \u001b[38;5;241m==\u001b[39m \u001b[38;5;124m\"\u001b[39m\u001b[38;5;124mpearson\u001b[39m\u001b[38;5;124m\"\u001b[39m:\n\u001b[0;32m  10057\u001b[0m     correl \u001b[38;5;241m=\u001b[39m libalgos\u001b[38;5;241m.\u001b[39mnancorr(mat, minp\u001b[38;5;241m=\u001b[39mmin_periods)\n",
      "File \u001b[1;32m~\\anaconda3\\Lib\\site-packages\\pandas\\core\\frame.py:1838\u001b[0m, in \u001b[0;36mDataFrame.to_numpy\u001b[1;34m(self, dtype, copy, na_value)\u001b[0m\n\u001b[0;32m   1836\u001b[0m \u001b[38;5;28;01mif\u001b[39;00m dtype \u001b[38;5;129;01mis\u001b[39;00m \u001b[38;5;129;01mnot\u001b[39;00m \u001b[38;5;28;01mNone\u001b[39;00m:\n\u001b[0;32m   1837\u001b[0m     dtype \u001b[38;5;241m=\u001b[39m np\u001b[38;5;241m.\u001b[39mdtype(dtype)\n\u001b[1;32m-> 1838\u001b[0m result \u001b[38;5;241m=\u001b[39m \u001b[38;5;28mself\u001b[39m\u001b[38;5;241m.\u001b[39m_mgr\u001b[38;5;241m.\u001b[39mas_array(dtype\u001b[38;5;241m=\u001b[39mdtype, copy\u001b[38;5;241m=\u001b[39mcopy, na_value\u001b[38;5;241m=\u001b[39mna_value)\n\u001b[0;32m   1839\u001b[0m \u001b[38;5;28;01mif\u001b[39;00m result\u001b[38;5;241m.\u001b[39mdtype \u001b[38;5;129;01mis\u001b[39;00m \u001b[38;5;129;01mnot\u001b[39;00m dtype:\n\u001b[0;32m   1840\u001b[0m     result \u001b[38;5;241m=\u001b[39m np\u001b[38;5;241m.\u001b[39marray(result, dtype\u001b[38;5;241m=\u001b[39mdtype, copy\u001b[38;5;241m=\u001b[39m\u001b[38;5;28;01mFalse\u001b[39;00m)\n",
      "File \u001b[1;32m~\\anaconda3\\Lib\\site-packages\\pandas\\core\\internals\\managers.py:1732\u001b[0m, in \u001b[0;36mBlockManager.as_array\u001b[1;34m(self, dtype, copy, na_value)\u001b[0m\n\u001b[0;32m   1730\u001b[0m         arr\u001b[38;5;241m.\u001b[39mflags\u001b[38;5;241m.\u001b[39mwriteable \u001b[38;5;241m=\u001b[39m \u001b[38;5;28;01mFalse\u001b[39;00m\n\u001b[0;32m   1731\u001b[0m \u001b[38;5;28;01melse\u001b[39;00m:\n\u001b[1;32m-> 1732\u001b[0m     arr \u001b[38;5;241m=\u001b[39m \u001b[38;5;28mself\u001b[39m\u001b[38;5;241m.\u001b[39m_interleave(dtype\u001b[38;5;241m=\u001b[39mdtype, na_value\u001b[38;5;241m=\u001b[39mna_value)\n\u001b[0;32m   1733\u001b[0m     \u001b[38;5;66;03m# The underlying data was copied within _interleave, so no need\u001b[39;00m\n\u001b[0;32m   1734\u001b[0m     \u001b[38;5;66;03m# to further copy if copy=True or setting na_value\u001b[39;00m\n\u001b[0;32m   1736\u001b[0m \u001b[38;5;28;01mif\u001b[39;00m na_value \u001b[38;5;129;01mis\u001b[39;00m \u001b[38;5;129;01mnot\u001b[39;00m lib\u001b[38;5;241m.\u001b[39mno_default:\n",
      "File \u001b[1;32m~\\anaconda3\\Lib\\site-packages\\pandas\\core\\internals\\managers.py:1794\u001b[0m, in \u001b[0;36mBlockManager._interleave\u001b[1;34m(self, dtype, na_value)\u001b[0m\n\u001b[0;32m   1792\u001b[0m     \u001b[38;5;28;01melse\u001b[39;00m:\n\u001b[0;32m   1793\u001b[0m         arr \u001b[38;5;241m=\u001b[39m blk\u001b[38;5;241m.\u001b[39mget_values(dtype)\n\u001b[1;32m-> 1794\u001b[0m     result[rl\u001b[38;5;241m.\u001b[39mindexer] \u001b[38;5;241m=\u001b[39m arr\n\u001b[0;32m   1795\u001b[0m     itemmask[rl\u001b[38;5;241m.\u001b[39mindexer] \u001b[38;5;241m=\u001b[39m \u001b[38;5;241m1\u001b[39m\n\u001b[0;32m   1797\u001b[0m \u001b[38;5;28;01mif\u001b[39;00m \u001b[38;5;129;01mnot\u001b[39;00m itemmask\u001b[38;5;241m.\u001b[39mall():\n",
      "\u001b[1;31mValueError\u001b[0m: could not convert string to float: 'Male'"
     ]
    }
   ],
   "source": [
    "master_data.corr()"
   ]
  },
  {
   "cell_type": "code",
   "execution_count": 38,
   "id": "4a92138b",
   "metadata": {
    "executionInfo": {
     "elapsed": 96,
     "status": "aborted",
     "timestamp": 1669259966632,
     "user": {
      "displayName": "Laughing_Buddha",
      "userId": "09715067922076073161"
     },
     "user_tz": -330
    },
    "id": "4a92138b"
   },
   "outputs": [
    {
     "data": {
      "text/plain": [
       "0.050657589286175454"
      ]
     },
     "execution_count": 38,
     "metadata": {},
     "output_type": "execute_result"
    }
   ],
   "source": [
    "# finding the correlation coefficient in pandas\n",
    "master_data['age'].corr(master_data['annual premium (in Rs)'])\n"
   ]
  },
  {
   "cell_type": "code",
   "execution_count": 39,
   "id": "b79ab78b",
   "metadata": {
    "executionInfo": {
     "elapsed": 97,
     "status": "aborted",
     "timestamp": 1669259966633,
     "user": {
      "displayName": "Laughing_Buddha",
      "userId": "09715067922076073161"
     },
     "user_tz": -330
    },
    "id": "b79ab78b"
   },
   "outputs": [
    {
     "data": {
      "text/html": [
       "<div>\n",
       "<style scoped>\n",
       "    .dataframe tbody tr th:only-of-type {\n",
       "        vertical-align: middle;\n",
       "    }\n",
       "\n",
       "    .dataframe tbody tr th {\n",
       "        vertical-align: top;\n",
       "    }\n",
       "\n",
       "    .dataframe thead th {\n",
       "        text-align: right;\n",
       "    }\n",
       "</style>\n",
       "<table border=\"1\" class=\"dataframe\">\n",
       "  <thead>\n",
       "    <tr style=\"text-align: right;\">\n",
       "      <th></th>\n",
       "      <th>age</th>\n",
       "      <th>annual premium (in Rs)</th>\n",
       "    </tr>\n",
       "  </thead>\n",
       "  <tbody>\n",
       "    <tr>\n",
       "      <th>age</th>\n",
       "      <td>1.000000</td>\n",
       "      <td>0.050658</td>\n",
       "    </tr>\n",
       "    <tr>\n",
       "      <th>annual premium (in Rs)</th>\n",
       "      <td>0.050658</td>\n",
       "      <td>1.000000</td>\n",
       "    </tr>\n",
       "  </tbody>\n",
       "</table>\n",
       "</div>"
      ],
      "text/plain": [
       "                             age  annual premium (in Rs)\n",
       "age                     1.000000                0.050658\n",
       "annual premium (in Rs)  0.050658                1.000000"
      ]
     },
     "execution_count": 39,
     "metadata": {},
     "output_type": "execute_result"
    }
   ],
   "source": [
    "# Matrix form of correlation\n",
    "master_data[['age','annual premium (in Rs)']].corr()\n"
   ]
  },
  {
   "cell_type": "code",
   "execution_count": null,
   "id": "d4739813",
   "metadata": {
    "executionInfo": {
     "elapsed": 98,
     "status": "aborted",
     "timestamp": 1669259966634,
     "user": {
      "displayName": "Laughing_Buddha",
      "userId": "09715067922076073161"
     },
     "user_tz": -330
    },
    "id": "d4739813"
   },
   "outputs": [],
   "source": []
  },
  {
   "cell_type": "code",
   "execution_count": null,
   "id": "1eb8be83",
   "metadata": {
    "executionInfo": {
     "elapsed": 98,
     "status": "aborted",
     "timestamp": 1669259966635,
     "user": {
      "displayName": "Laughing_Buddha",
      "userId": "09715067922076073161"
     },
     "user_tz": -330
    },
    "id": "1eb8be83"
   },
   "outputs": [],
   "source": []
  },
  {
   "cell_type": "code",
   "execution_count": null,
   "id": "49210ca3",
   "metadata": {
    "executionInfo": {
     "elapsed": 99,
     "status": "aborted",
     "timestamp": 1669259966636,
     "user": {
      "displayName": "Laughing_Buddha",
      "userId": "09715067922076073161"
     },
     "user_tz": -330
    },
    "id": "49210ca3"
   },
   "outputs": [],
   "source": []
  },
  {
   "cell_type": "code",
   "execution_count": null,
   "id": "2a4808a4",
   "metadata": {},
   "outputs": [],
   "source": []
  }
 ],
 "metadata": {
  "colab": {
   "provenance": []
  },
  "kernelspec": {
   "display_name": "Python 3 (ipykernel)",
   "language": "python",
   "name": "python3"
  },
  "language_info": {
   "codemirror_mode": {
    "name": "ipython",
    "version": 3
   },
   "file_extension": ".py",
   "mimetype": "text/x-python",
   "name": "python",
   "nbconvert_exporter": "python",
   "pygments_lexer": "ipython3",
   "version": "3.11.5"
  }
 },
 "nbformat": 4,
 "nbformat_minor": 5
}
